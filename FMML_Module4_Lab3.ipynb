{
  "nbformat": 4,
  "nbformat_minor": 0,
  "metadata": {
    "colab": {
      "provenance": [],
      "include_colab_link": true
    },
    "kernelspec": {
      "name": "python3",
      "display_name": "Python 3"
    },
    "language_info": {
      "name": "python"
    }
  },
  "cells": [
    {
      "cell_type": "markdown",
      "metadata": {
        "id": "view-in-github",
        "colab_type": "text"
      },
      "source": [
        "<a href=\"https://colab.research.google.com/github/Satyanarayanabathula/FMML_COURSE_ASSGINMENT/blob/main/FMML_Module4_Lab3.ipynb\" target=\"_parent\"><img src=\"https://colab.research.google.com/assets/colab-badge.svg\" alt=\"Open In Colab\"/></a>"
      ]
    },
    {
      "cell_type": "markdown",
      "source": [
        "# FOUNDATIONS OF MODERN MACHINE LEARNING, IIIT Hyderabad\n",
        "# Module 4: Perceptron and Gradient Descent\n",
        "## Lab 3: Gradient Descent\n",
        "### Module Coordinator: Jashn Arora\n",
        "\n",
        "Gradient descent is a very important algorithm to understand, as it underpins many of the more advanced algorithms used in Machine Learning and Deep Learning.\n",
        "\n",
        "A brief overview of the algorithm is\n",
        "\n",
        "\n",
        "*   start with a random initialization of the solution.\n",
        "*   incrementally change the solution by moving in the direction of negative gradient of the objective function.\n",
        "*   repeat the previous step until some convergence criteria is met.\n",
        "\n",
        "The key equation for change in weight is:\n",
        "$$w^{k+1} \\leftarrow w^k - \\eta \\Delta J$$\n",
        "\n",
        "In this lab, we will discuss stochastic gradient descent, mini-batch gradient descent and batch gradient descent.\n"
      ],
      "metadata": {
        "id": "XYxxkQg6xCjD"
      }
    },
    {
      "cell_type": "code",
      "metadata": {
        "id": "Fr-MnaGs7JmZ"
      },
      "source": [
        "import numpy as np\n",
        "import matplotlib.pyplot as plt"
      ],
      "execution_count": 1,
      "outputs": []
    },
    {
      "cell_type": "code",
      "metadata": {
        "id": "7ob_zZms7VOu"
      },
      "source": [
        "np.random.seed(42)"
      ],
      "execution_count": 2,
      "outputs": []
    },
    {
      "cell_type": "markdown",
      "metadata": {
        "id": "v4Kix4bcChiy"
      },
      "source": [
        "# Creating the Data\n",
        "\n",
        "Let's generate some data with:\n",
        "\\begin{equation} y_0= 4 \\end{equation} \n",
        "\\begin{equation} y_1= 3 \\end{equation} \n",
        "\n",
        "and also add some noise to the data."
      ]
    },
    {
      "cell_type": "code",
      "metadata": {
        "id": "MtAS7eFZ9hX6"
      },
      "source": [
        "X = 2 * np.random.rand(100, 1)\n",
        "y = 4 + 3 * X + np.random.randn(100, 1)"
      ],
      "execution_count": 3,
      "outputs": []
    },
    {
      "cell_type": "markdown",
      "metadata": {
        "id": "zD95NaF-CxM-"
      },
      "source": [
        "Let's also plot the data we just created"
      ]
    },
    {
      "cell_type": "code",
      "metadata": {
        "colab": {
          "base_uri": "https://localhost:8080/",
          "height": 296
        },
        "id": "3IiEP4BQ7Wja",
        "outputId": "51cdd62c-c877-4242-f7be-788cfd1955dd"
      },
      "source": [
        "plt.plot(X, y, 'b.')\n",
        "plt.xlabel('x')\n",
        "plt.ylabel('y', rotation=0)"
      ],
      "execution_count": 4,
      "outputs": [
        {
          "output_type": "execute_result",
          "data": {
            "text/plain": [
              "Text(0, 0.5, 'y')"
            ]
          },
          "metadata": {},
          "execution_count": 4
        },
        {
          "output_type": "display_data",
          "data": {
            "text/plain": [
              "<Figure size 432x288 with 1 Axes>"
            ],
            "image/png": "[encoded data removed]"
          },
          "metadata": {
            "needs_background": "light"
          }
        }
      ]
    },
    {
      "cell_type": "markdown",
      "metadata": {
        "id": "ScwxpouoDDyZ"
      },
      "source": [
        "## Cost Function\n",
        "\n",
        "The equation for calculating cost function is as shown below. The cost function is only for linear regression. For other algorithms, the cost function will be different and the gradients would have to be derived from the cost functions\n",
        "\n",
        "\\begin{equation}\n",
        "J(y_{pred}) = \\frac{1}{2} m \\sum_{i=1}^{m} (h(y_{pred})^{(i)} - y^{(i)})^2 \n",
        "\\end{equation}"
      ]
    },
    {
      "cell_type": "code",
      "metadata": {
        "id": "PUeTUAXH7ZaV"
      },
      "source": [
        "def cal_cost(y_pred, X, y):\n",
        "    '''\n",
        "    Calculates the cost for given X and Y.\n",
        "    y_pred = Vector of y_preds \n",
        "    X = Row of X's np.zeros((2, j))\n",
        "    y = Actual y's np.zeros((2, 1))\n",
        "    \n",
        "    where:\n",
        "        j is the no of features\n",
        "    '''\n",
        "    \n",
        "    m = len(y)\n",
        "    \n",
        "    predictions = X.dot(y_pred)\n",
        "    cost = (1 / 2 * m) * np.sum(np.square(predictions - y))\n",
        "\n",
        "    return cost"
      ],
      "execution_count": 5,
      "outputs": []
    },
    {
      "cell_type": "markdown",
      "metadata": {
        "id": "FcXqsVNpDbKC"
      },
      "source": [
        "## Gradients\n",
        "\n",
        "\\begin{equation}\n",
        "y_{pred_0}: = y_{pred_0} -\\alpha . (1/m .\\sum_{i=1}^{m}(h(y_{pred}^{(i)} - y^{(i)}).X_0^{(i)})\n",
        "\\end{equation}\n",
        "\\begin{equation}\n",
        "y_{pred_1}: = y_{pred_1} -\\alpha . (1/m .\\sum_{i=1}^{m}(h(y_{pred}^{(i)} - y^{(i)}).X_0^{(i)})\n",
        "\\end{equation}\n",
        ".\n",
        "\n",
        ".\n",
        "\n",
        ".\n",
        "\n",
        ".\n",
        "\n",
        "\\begin{equation}\n",
        "y_{pred_j}: = y_{pred_j} -\\alpha . (1/m .\\sum_{i=1}^{m}(h(y_{pred}^{(i)} - y^{(i)}).X_0^{(i)})\n",
        "\\end{equation}"
      ]
    },
    {
      "cell_type": "code",
      "metadata": {
        "id": "fwxBFXP88NBW"
      },
      "source": [
        "def gradient_descent(X, y, y_pred, learning_rate=0.01, iterations=100):\n",
        "    '''\n",
        "    X = Matrix of X with added bias units\n",
        "    y = Vector of Y\n",
        "    y_pred = Vector of y_preds np.random.randn(j, 1)\n",
        "    learning_rate \n",
        "    iterations = no of iterations\n",
        "    \n",
        "    Returns the final y_pred vector and array of cost history over no of iterations\n",
        "    '''\n",
        "\n",
        "    m = len(y)\n",
        "    cost_history = np.zeros(iterations)\n",
        "    y_pred_history = np.zeros((iterations, 2))\n",
        "    \n",
        "    for it in range(iterations):    \n",
        "        prediction = np.dot(X, y_pred)\n",
        "        y_pred = y_pred - (1 / m) * learning_rate * (X.T.dot((prediction - y)))\n",
        "        y_pred_history[it,:] = y_pred.T\n",
        "        cost_history[it]  = cal_cost(y_pred, X, y)\n",
        "        \n",
        "    return y_pred, cost_history, y_pred_history    "
      ],
      "execution_count": 6,
      "outputs": []
    },
    {
      "cell_type": "markdown",
      "metadata": {
        "id": "1iSohSB2EtK1"
      },
      "source": [
        "Let's do 1000 iterations with a learning rate of 0.01. \n",
        "We will start with a random prediction."
      ]
    },
    {
      "cell_type": "code",
      "metadata": {
        "colab": {
          "base_uri": "https://localhost:8080/"
        },
        "id": "18AX7hrU8bv5",
        "outputId": "31a0a214-b892-43ac-c1de-df50806711c8"
      },
      "source": [
        "lr = 0.01\n",
        "n_iter = 1000\n",
        "\n",
        "y_pred = np.random.randn(2,1)\n",
        "X_b = np.c_[np.ones((len(X), 1)), X]\n",
        "y_pred, cost_history, y_pred_history = gradient_descent(X_b, y, y_pred, lr, n_iter)\n",
        "\n",
        "print('y_pred[0]: {:0.3f}\\ny_pred[1]: {:0.3f}'.format(y_pred[0][0], y_pred[1][0]))\n",
        "print('Final error: {:0.3f}'.format(cost_history[-1]))"
      ],
      "execution_count": 7,
      "outputs": [
        {
          "output_type": "stream",
          "name": "stdout",
          "text": [
            "y_pred[0]: 3.903\n",
            "y_pred[1]: 3.046\n",
            "Final error: 4180.375\n"
          ]
        }
      ]
    },
    {
      "cell_type": "markdown",
      "metadata": {
        "id": "m7fao2MaE216"
      },
      "source": [
        "Plotting the error vs Number of iterations"
      ]
    },
    {
      "cell_type": "code",
      "metadata": {
        "colab": {
          "base_uri": "https://localhost:8080/",
          "height": 534
        },
        "id": "DrkrAAbk8hIs",
        "outputId": "8af0971a-9144-47e2-d04e-04e635133259"
      },
      "source": [
        "fig, ax = plt.subplots(figsize=(12,8))\n",
        "\n",
        "ax.set_ylabel('Error')\n",
        "ax.set_xlabel('Number of iterations')\n",
        "\n",
        "ax.plot(range(n_iter), cost_history, 'b.')"
      ],
      "execution_count": 8,
      "outputs": [
        {
          "output_type": "execute_result",
          "data": {
            "text/plain": [
              "[<matplotlib.lines.Line2D at 0x7fad6810e790>]"
            ]
          },
          "metadata": {},
          "execution_count": 8
        },
        {
          "output_type": "display_data",
          "data": {
            "text/plain": [
              "<Figure size 864x576 with 1 Axes>"
            ],
            "image/png": "[encoded data removed]"
          },
          "metadata": {
            "needs_background": "light"
          }
        }
      ]
    },
    {
      "cell_type": "markdown",
      "metadata": {
        "id": "IG5tWAy-FCaW"
      },
      "source": [
        "Zooming in..."
      ]
    },
    {
      "cell_type": "code",
      "metadata": {
        "colab": {
          "base_uri": "https://localhost:8080/",
          "height": 500
        },
        "id": "WZ7BoFHy8kTk",
        "outputId": "3c58288a-ebcb-4900-c13b-d0064836a95f"
      },
      "source": [
        "fig,ax = plt.subplots(figsize=(10,8))\n",
        "ax.plot(range(200), cost_history[:200], 'b.')"
      ],
      "execution_count": 9,
      "outputs": [
        {
          "output_type": "execute_result",
          "data": {
            "text/plain": [
              "[<matplotlib.lines.Line2D at 0x7fad680704c0>]"
            ]
          },
          "metadata": {},
          "execution_count": 9
        },
        {
          "output_type": "display_data",
          "data": {
            "text/plain": [
              "<Figure size 720x576 with 1 Axes>"
            ],
            "image/png": "[encoded data removed]"
          },
          "metadata": {
            "needs_background": "light"
          }
        }
      ]
    },
    {
      "cell_type": "markdown",
      "metadata": {
        "id": "JYhOp3fjnh2G"
      },
      "source": [
        "# Stochastic Gradient Descent"
      ]
    },
    {
      "cell_type": "markdown",
      "source": [
        "In Batch Gradient Descent we were considering all the examples for every step of Gradient Descent. But what if our dataset is very huge. Deep learning models crave for data. The more the data the more chances of a model to be good. Suppose our dataset has 5 million examples, then just to take one step the model will have to calculate the gradients of all the 5 million examples. This does not seem an efficient way. To tackle this problem we have Stochastic Gradient Descent. In Stochastic Gradient Descent (SGD), we consider just one example at a time to take a single step."
      ],
      "metadata": {
        "id": "10N2dcwWUctJ"
      }
    },
    {
      "cell_type": "code",
      "metadata": {
        "id": "aVwD7Cqw8m1d"
      },
      "source": [
        "def stocashtic_gradient_descent(X, y, y_pred, learning_rate=0.01, iterations=10):\n",
        "    '''\n",
        "    X = Matrix of X with added bias units\n",
        "    y = Vector of Y\n",
        "    y_pred = Vector of y_pred np.random.randn(j,1)\n",
        "    learning_rate \n",
        "    iterations = no of iterations\n",
        "    \n",
        "    Returns the final y_pred vector and array of cost history over no of iterations\n",
        "    '''\n",
        "\n",
        "    m = len(y)\n",
        "    cost_history = np.zeros(iterations)\n",
        "    \n",
        "    for it in range(iterations):\n",
        "        cost = 0.0\n",
        "        \n",
        "        for i in range(m):\n",
        "            rand_ind = np.random.randint(0,m)\n",
        "            X_i = X[rand_ind, :].reshape(1, X.shape[1])\n",
        "            y_i = y[rand_ind].reshape(1,1)\n",
        "            prediction = np.dot(X_i, y_pred)\n",
        "\n",
        "            y_pred = y_pred - (1 / m) * learning_rate *(X_i.T.dot((prediction - y_i)))\n",
        "            cost += cal_cost(y_pred, X_i, y_i)\n",
        "\n",
        "        cost_history[it]  = cost\n",
        "        \n",
        "    return y_pred, cost_history"
      ],
      "execution_count": 10,
      "outputs": []
    },
    {
      "cell_type": "code",
      "metadata": {
        "colab": {
          "base_uri": "https://localhost:8080/"
        },
        "id": "Yk6pfB5c8tPz",
        "outputId": "e3fb7f37-c267-4444-c76d-04bae13496ec"
      },
      "source": [
        "lr = 0.5\n",
        "n_iter = 50\n",
        "y_pred = np.random.randn(2, 1)\n",
        "X_b = np.c_[np.ones((len(X), 1)), X]\n",
        "y_pred, cost_history = stocashtic_gradient_descent(X_b, y, y_pred, lr, n_iter)\n",
        "\n",
        "print('y_pred[0]: {:0.3f}\\ny_pred[1]: {:0.3f}'.format(y_pred[0][0], y_pred[1][0]))\n",
        "print('Final error: {:0.3f}'.format(cost_history[-1]))"
      ],
      "execution_count": 11,
      "outputs": [
        {
          "output_type": "stream",
          "name": "stdout",
          "text": [
            "y_pred[0]: 4.121\n",
            "y_pred[1]: 2.755\n",
            "Final error: 41.313\n"
          ]
        }
      ]
    },
    {
      "cell_type": "code",
      "metadata": {
        "colab": {
          "base_uri": "https://localhost:8080/",
          "height": 514
        },
        "id": "YiJUgS7o8u2e",
        "outputId": "4a96c862-7f51-45b8-c1c2-f71a20b9c329"
      },
      "source": [
        "fig, ax = plt.subplots(figsize=(10,8))\n",
        "\n",
        "ax.set_ylabel('Error')\n",
        "ax.set_xlabel('Number of iterations')\n",
        "y_pred = np.random.randn(2,1)\n",
        "\n",
        "ax.plot(range(n_iter), cost_history, 'b.')"
      ],
      "execution_count": 12,
      "outputs": [
        {
          "output_type": "execute_result",
          "data": {
            "text/plain": [
              "[<matplotlib.lines.Line2D at 0x7fad4b3742e0>]"
            ]
          },
          "metadata": {},
          "execution_count": 12
        },
        {
          "output_type": "display_data",
          "data": {
            "text/plain": [
              "<Figure size 720x576 with 1 Axes>"
            ],
            "image/png": "[encoded data removed]"
          },
          "metadata": {
            "needs_background": "light"
          }
        }
      ]
    },
    {
      "cell_type": "markdown",
      "metadata": {
        "id": "ScckWktynk1o"
      },
      "source": [
        "# Mini Batch Gradient Descent"
      ]
    },
    {
      "cell_type": "markdown",
      "source": [
        "We have seen the Batch Gradient Descent. We have also seen the Stochastic Gradient Descent. Batch Gradient Descent can be used for smoother curves. SGD can be used when the dataset is large. Batch Gradient Descent converges directly to minima. SGD converges faster for larger datasets. But, since in SGD we use only one example at a time, we cannot implement the vectorized implementation on it. This can slow down the computations. To tackle this problem, a mixture of Batch Gradient Descent and SGD is used.\n",
        "Neither we use all the dataset all at once nor we use the single example at a time. We use a batch of a fixed number of training examples which is less than the actual dataset and call it a mini-batch. Doing this helps us achieve the advantages of both the former variants we saw."
      ],
      "metadata": {
        "id": "ZTVz-QssUkuE"
      }
    },
    {
      "cell_type": "code",
      "metadata": {
        "id": "4JtxFVL78wEm"
      },
      "source": [
        "def minibatch_gradient_descent(X, y, y_pred, learning_rate=0.01, iterations=10, batch_size=20):\n",
        "    '''\n",
        "    X = Matrix of X without added bias units\n",
        "    y = Vector of Y\n",
        "    y_pred = Vector of y_preds np.random.randn(j, 1)\n",
        "    learning_rate \n",
        "    iterations = no of iterations\n",
        "    \n",
        "    Returns the final theta vector and array of cost history over no of iterations\n",
        "    '''\n",
        "\n",
        "    m = len(y)\n",
        "    cost_history = np.zeros(iterations)\n",
        "    n_batches = int(m / batch_size)\n",
        "    \n",
        "    for it in range(iterations):\n",
        "        cost = 0.0\n",
        "        indices = np.random.permutation(m)\n",
        "        X = X[indices]\n",
        "        y = y[indices]\n",
        "\n",
        "        for i in range(0, m, batch_size):\n",
        "            X_i = X[i: i + batch_size]\n",
        "            y_i = y[i: i + batch_size]\n",
        "            \n",
        "            X_i = np.c_[np.ones(len(X_i)), X_i]\n",
        "            prediction = np.dot(X_i, y_pred)\n",
        "\n",
        "            y_pred = y_pred - (1 / m) * learning_rate * (X_i.T.dot((prediction - y_i)))\n",
        "            cost += cal_cost(y_pred, X_i, y_i)\n",
        "\n",
        "        cost_history[it]  = cost\n",
        "        \n",
        "    return y_pred, cost_history"
      ],
      "execution_count": 13,
      "outputs": []
    },
    {
      "cell_type": "code",
      "metadata": {
        "colab": {
          "base_uri": "https://localhost:8080/"
        },
        "id": "SpbsVwA28znL",
        "outputId": "c56e4c11-6265-4a18-f34e-8e64d9a85506"
      },
      "source": [
        "lr = 0.1\n",
        "n_iter = 200\n",
        "y_pred = np.random.randn(2,1)\n",
        "y_pred, cost_history = minibatch_gradient_descent(X, y, y_pred, lr, n_iter)\n",
        "\n",
        "print('y_pred[0]: {:0.3f}\\ny_pred[1]: {:0.3f}'.format(y_pred[0][0], y_pred[1][0]))\n",
        "print('Final error: {:0.3f}'.format(cost_history[-1]))"
      ],
      "execution_count": 14,
      "outputs": [
        {
          "output_type": "stream",
          "name": "stdout",
          "text": [
            "y_pred[0]: 4.148\n",
            "y_pred[1]: 2.827\n",
            "Final error: 807.488\n"
          ]
        }
      ]
    },
    {
      "cell_type": "code",
      "metadata": {
        "colab": {
          "base_uri": "https://localhost:8080/",
          "height": 514
        },
        "id": "Q_ivOYHT817C",
        "outputId": "8fe7aba9-5457-47c8-80ec-0616842fff91"
      },
      "source": [
        "fig, ax = plt.subplots(figsize=(10,8))\n",
        "\n",
        "ax.set_ylabel('Error')\n",
        "ax.set_xlabel('Number of iterations')\n",
        "y_pred = np.random.randn(2,1)\n",
        "\n",
        "ax.plot(range(n_iter), cost_history, 'b.')"
      ],
      "execution_count": 15,
      "outputs": [
        {
          "output_type": "execute_result",
          "data": {
            "text/plain": [
              "[<matplotlib.lines.Line2D at 0x7fad4b34c6d0>]"
            ]
          },
          "metadata": {},
          "execution_count": 15
        },
        {
          "output_type": "display_data",
          "data": {
            "text/plain": [
              "<Figure size 720x576 with 1 Axes>"
            ],
            "image/png": "[encoded data removed]"
          },
          "metadata": {
            "needs_background": "light"
          }
        }
      ]
    },
    {
      "cell_type": "markdown",
      "source": [
        "Things to try out:\n",
        "\n",
        "1. Change batch size in mini-batch gradient descent.\n",
        "2. Test all the three out on real datasets.\n",
        "3. Compare the effects of changing learning rate by the same amount in Batch GD, SGD and Mini-batch GD."
      ],
      "metadata": {
        "id": "0neTARjKUoP4"
      }
    },
    {
      "cell_type": "markdown",
      "source": [
        "# **Answer for task-1**"
      ],
      "metadata": {
        "id": "tGyFPw648xxu"
      }
    },
    {
      "cell_type": "code",
      "source": [
        "p = [25,30,40,50,65]\n",
        "for i in p:\n",
        "    def minibatch_gradient_descent_new(X, y, y_pred, learning_rate=0.01, iterations=10, batch_size=i):\n",
        "        '''\n",
        "        X = Matrix of X without added bias units\n",
        "        y = Vector of Y\n",
        "        y_pred = Vector of y_preds np.random.randn(j, 1)\n",
        "        learning_rate \n",
        "        iterations = no of iterations\n",
        "     \n",
        "        Returns the final theta vector and array of cost history over no of iterations\n",
        "        '''\n",
        "\n",
        "        m = len(y)\n",
        "        cost_history = np.zeros(iterations)\n",
        "        n_batches = int(m / batch_size)\n",
        "    \n",
        "        for it in range(iterations):\n",
        "            cost = 0.0\n",
        "            indices = np.random.permutation(m)\n",
        "            X = X[indices]\n",
        "            y = y[indices]\n",
        "\n",
        "            for i in range(0, m, batch_size):\n",
        "                X_i = X[i: i + batch_size]\n",
        "                y_i = y[i: i + batch_size]\n",
        "            \n",
        "                X_i = np.c_[np.ones(len(X_i)), X_i]\n",
        "                prediction = np.dot(X_i, y_pred)\n",
        "\n",
        "                y_pred = y_pred - (1 / m) * learning_rate * (X_i.T.dot((prediction - y_i)))\n",
        "                cost += cal_cost(y_pred, X_i, y_i)\n",
        "\n",
        "            cost_history[it]  = cost\n",
        "        \n",
        "        return y_pred, cost_history\n",
        "\n",
        "  \n",
        "    ############################################\n",
        "\n",
        "    lr = 0.1\n",
        "    n_iter = 200\n",
        "    y_pred = np.random.randn(2,1)\n",
        "    y_pred, cost_history = minibatch_gradient_descent(X, y, y_pred, lr, n_iter)\n",
        "    print(\"###########################################------------------------------\")\n",
        "    print(f\"the batch size is {i}\")\n",
        "    print('y_pred[0]: {:0.3f}\\ny_pred[1]: {:0.3f}'.format(y_pred[0][0], y_pred[1][0]))\n",
        "    print('Final error: {:0.3f}'.format(cost_history[-1]))\n",
        "\n",
        "    ##############################################\n",
        "\n",
        "    fig, ax = plt.subplots(figsize=(10,8))\n",
        "    ax.set_title(f\"PLOT WITH BATCH SIZE {i}\") \n",
        "    ax.set_ylabel('Error')\n",
        "    ax.set_xlabel('Number of iterations')\n",
        "    y_pred = np.random.randn(2,1)\n",
        "    print(\"_______________________________________________________\")\n",
        "    ax.plot(range(n_iter), cost_history, 'b.')"
      ],
      "metadata": {
        "id": "2T43M0tb8cBJ",
        "colab": {
          "base_uri": "https://localhost:8080/",
          "height": 1000
        },
        "outputId": "00196e83-f3e2-49b9-8149-ec31d916e647"
      },
      "execution_count": 16,
      "outputs": [
        {
          "output_type": "stream",
          "name": "stdout",
          "text": [
            "###########################################------------------------------\n",
            "the batch size is 25\n",
            "y_pred[0]: 4.248\n",
            "y_pred[1]: 2.741\n",
            "Final error: 805.220\n",
            "_______________________________________________________\n",
            "###########################################------------------------------\n",
            "the batch size is 30\n",
            "y_pred[0]: 4.159\n",
            "y_pred[1]: 2.819\n",
            "Final error: 806.677\n",
            "_______________________________________________________\n",
            "###########################################------------------------------\n",
            "the batch size is 40\n",
            "y_pred[0]: 4.179\n",
            "y_pred[1]: 2.801\n",
            "Final error: 804.038\n",
            "_______________________________________________________\n",
            "###########################################------------------------------\n",
            "the batch size is 50\n",
            "y_pred[0]: 4.150\n",
            "y_pred[1]: 2.828\n",
            "Final error: 807.322\n",
            "_______________________________________________________\n",
            "###########################################------------------------------\n",
            "the batch size is 65\n",
            "y_pred[0]: 4.215\n",
            "y_pred[1]: 2.770\n",
            "Final error: 805.770\n",
            "_______________________________________________________\n"
          ]
        },
        {
          "output_type": "display_data",
          "data": {
            "text/plain": [
              "<Figure size 720x576 with 1 Axes>"
            ],
            "image/png": "[encoded data removed]"
          },
          "metadata": {
            "needs_background": "light"
          }
        },
        {
          "output_type": "display_data",
          "data": {
            "text/plain": [
              "<Figure size 720x576 with 1 Axes>"
            ],
            "image/png": "[encoded data removed]"
          },
          "metadata": {
            "needs_background": "light"
          }
        },
        {
          "output_type": "display_data",
          "data": {
            "text/plain": [
              "<Figure size 720x576 with 1 Axes>"
            ],
            "image/png": "[encoded data removed]"
          },
          "metadata": {
            "needs_background": "light"
          }
        },
        {
          "output_type": "display_data",
          "data": {
            "text/plain": [
              "<Figure size 720x576 with 1 Axes>"
            ],
            "image/png": "[encoded data removed]"
          },
          "metadata": {
            "needs_background": "light"
          }
        },
        {
          "output_type": "display_data",
          "data": {
            "text/plain": [
              "<Figure size 720x576 with 1 Axes>"
            ],
            "image/png": "[encoded data removed]"
          },
          "metadata": {
            "needs_background": "light"
          }
        }
      ]
    },
    {
      "cell_type": "markdown",
      "source": [
        "# **Answer for task-2**"
      ],
      "metadata": {
        "id": "3W8gJXGt86TZ"
      }
    },
    {
      "cell_type": "code",
      "source": [
        "from google.colab import files\n",
        "files.upload()"
      ],
      "metadata": {
        "colab": {
          "base_uri": "https://localhost:8080/",
          "height": 128
        },
        "id": "Aici1Q0m883P",
        "outputId": "0d8a1947-bc86-475e-ec69-42138f728a80"
      },
      "execution_count": 19,
      "outputs": [
        {
          "output_type": "display_data",
          "data": {
            "text/plain": [
              "<IPython.core.display.HTML object>"
            ],
            "text/html": [
              "\n",
              "     <input type=\"file\" id=\"files-0a2873bd-689f-4875-b150-daabd4204150\" name=\"files[]\" multiple disabled\n",
              "        style=\"border:none\" />\n",
              "     <output id=\"result-0a2873bd-689f-4875-b150-daabd4204150\">\n",
              "      Upload widget is only available when the cell has been executed in the\n",
              "      current browser session. Please rerun this cell to enable.\n",
              "      </output>\n",
              "      <script>// Copyright 2017 Google LLC\n",
              "//\n",
              "// Licensed under the Apache License, Version 2.0 (the \"License\");\n",
              "// you may not use this file except in compliance with the License.\n",
              "// You may obtain a copy of the License at\n",
              "//\n",
              "//      http://www.apache.org/licenses/LICENSE-2.0\n",
              "//\n",
              "// Unless required by applicable law or agreed to in writing, software\n",
              "// distributed under the License is distributed on an \"AS IS\" BASIS,\n",
              "// WITHOUT WARRANTIES OR CONDITIONS OF ANY KIND, either express or implied.\n",
              "// See the License for the specific language governing permissions and\n",
              "// limitations under the License.\n",
              "\n",
              "/**\n",
              " * @fileoverview Helpers for google.colab Python module.\n",
              " */\n",
              "(function(scope) {\n",
              "function span(text, styleAttributes = {}) {\n",
              "  const element = document.createElement('span');\n",
              "  element.textContent = text;\n",
              "  for (const key of Object.keys(styleAttributes)) {\n",
              "    element.style[key] = styleAttributes[key];\n",
              "  }\n",
              "  return element;\n",
              "}\n",
              "\n",
              "// Max number of bytes which will be uploaded at a time.\n",
              "const MAX_PAYLOAD_SIZE = 100 * 1024;\n",
              "\n",
              "function _uploadFiles(inputId, outputId) {\n",
              "  const steps = uploadFilesStep(inputId, outputId);\n",
              "  const outputElement = document.getElementById(outputId);\n",
              "  // Cache steps on the outputElement to make it available for the next call\n",
              "  // to uploadFilesContinue from Python.\n",
              "  outputElement.steps = steps;\n",
              "\n",
              "  return _uploadFilesContinue(outputId);\n",
              "}\n",
              "\n",
              "// This is roughly an async generator (not supported in the browser yet),\n",
              "// where there are multiple asynchronous steps and the Python side is going\n",
              "// to poll for completion of each step.\n",
              "// This uses a Promise to block the python side on completion of each step,\n",
              "// then passes the result of the previous step as the input to the next step.\n",
              "function _uploadFilesContinue(outputId) {\n",
              "  const outputElement = document.getElementById(outputId);\n",
              "  const steps = outputElement.steps;\n",
              "\n",
              "  const next = steps.next(outputElement.lastPromiseValue);\n",
              "  return Promise.resolve(next.value.promise).then((value) => {\n",
              "    // Cache the last promise value to make it available to the next\n",
              "    // step of the generator.\n",
              "    outputElement.lastPromiseValue = value;\n",
              "    return next.value.response;\n",
              "  });\n",
              "}\n",
              "\n",
              "/**\n",
              " * Generator function which is called between each async step of the upload\n",
              " * process.\n",
              " * @param {string} inputId Element ID of the input file picker element.\n",
              " * @param {string} outputId Element ID of the output display.\n",
              " * @return {!Iterable<!Object>} Iterable of next steps.\n",
              " */\n",
              "function* uploadFilesStep(inputId, outputId) {\n",
              "  const inputElement = document.getElementById(inputId);\n",
              "  inputElement.disabled = false;\n",
              "\n",
              "  const outputElement = document.getElementById(outputId);\n",
              "  outputElement.innerHTML = '';\n",
              "\n",
              "  const pickedPromise = new Promise((resolve) => {\n",
              "    inputElement.addEventListener('change', (e) => {\n",
              "      resolve(e.target.files);\n",
              "    });\n",
              "  });\n",
              "\n",
              "  const cancel = document.createElement('button');\n",
              "  inputElement.parentElement.appendChild(cancel);\n",
              "  cancel.textContent = 'Cancel upload';\n",
              "  const cancelPromise = new Promise((resolve) => {\n",
              "    cancel.onclick = () => {\n",
              "      resolve(null);\n",
              "    };\n",
              "  });\n",
              "\n",
              "  // Wait for the user to pick the files.\n",
              "  const files = yield {\n",
              "    promise: Promise.race([pickedPromise, cancelPromise]),\n",
              "    response: {\n",
              "      action: 'starting',\n",
              "    }\n",
              "  };\n",
              "\n",
              "  cancel.remove();\n",
              "\n",
              "  // Disable the input element since further picks are not allowed.\n",
              "  inputElement.disabled = true;\n",
              "\n",
              "  if (!files) {\n",
              "    return {\n",
              "      response: {\n",
              "        action: 'complete',\n",
              "      }\n",
              "    };\n",
              "  }\n",
              "\n",
              "  for (const file of files) {\n",
              "    const li = document.createElement('li');\n",
              "    li.append(span(file.name, {fontWeight: 'bold'}));\n",
              "    li.append(span(\n",
              "        `(${file.type || 'n/a'}) - ${file.size} bytes, ` +\n",
              "        `last modified: ${\n",
              "            file.lastModifiedDate ? file.lastModifiedDate.toLocaleDateString() :\n",
              "                                    'n/a'} - `));\n",
              "    const percent = span('0% done');\n",
              "    li.appendChild(percent);\n",
              "\n",
              "    outputElement.appendChild(li);\n",
              "\n",
              "    const fileDataPromise = new Promise((resolve) => {\n",
              "      const reader = new FileReader();\n",
              "      reader.onload = (e) => {\n",
              "        resolve(e.target.result);\n",
              "      };\n",
              "      reader.readAsArrayBuffer(file);\n",
              "    });\n",
              "    // Wait for the data to be ready.\n",
              "    let fileData = yield {\n",
              "      promise: fileDataPromise,\n",
              "      response: {\n",
              "        action: 'continue',\n",
              "      }\n",
              "    };\n",
              "\n",
              "    // Use a chunked sending to avoid message size limits. See b/62115660.\n",
              "    let position = 0;\n",
              "    do {\n",
              "      const length = Math.min(fileData.byteLength - position, MAX_PAYLOAD_SIZE);\n",
              "      const chunk = new Uint8Array(fileData, position, length);\n",
              "      position += length;\n",
              "\n",
              "      const base64 = btoa(String.fromCharCode.apply(null, chunk));\n",
              "      yield {\n",
              "        response: {\n",
              "          action: 'append',\n",
              "          file: file.name,\n",
              "          data: base64,\n",
              "        },\n",
              "      };\n",
              "\n",
              "      let percentDone = fileData.byteLength === 0 ?\n",
              "          100 :\n",
              "          Math.round((position / fileData.byteLength) * 100);\n",
              "      percent.textContent = `${percentDone}% done`;\n",
              "\n",
              "    } while (position < fileData.byteLength);\n",
              "  }\n",
              "\n",
              "  // All done.\n",
              "  yield {\n",
              "    response: {\n",
              "      action: 'complete',\n",
              "    }\n",
              "  };\n",
              "}\n",
              "\n",
              "scope.google = scope.google || {};\n",
              "scope.google.colab = scope.google.colab || {};\n",
              "scope.google.colab._files = {\n",
              "  _uploadFiles,\n",
              "  _uploadFilesContinue,\n",
              "};\n",
              "})(self);\n",
              "</script> "
            ]
          },
          "metadata": {}
        },
        {
          "output_type": "stream",
          "name": "stdout",
          "text": [
            "Saving preprocessed_diabetes_data.csv to preprocessed_diabetes_data.csv\n"
          ]
        },
        {
          "output_type": "execute_result",
          "data": {
            "text/plain": [
              "{'preprocessed_diabetes_data.csv': b'Pregnancies,Glucose,BloodPressure,SkinThickness,Insulin,BMI,DiabetesPedigreeFunction,Age,Outcome\\n6,148,72,35,125,33.6,0.627,50,1\\n1,85,66,29,125,26.6,0.351,31,0\\n8,183,64,29,125,23.3,0.672,32,1\\n1,89,66,23,94,28.1,0.166999999999999,21,0\\n0,137,40,35,168,43.1,2.288,33,1\\n5,116,74,29,125,25.6,0.201,30,0\\n3,78,50,32,88,31,0.248,26,1\\n10,115,72.4051841746248,29,125,35.3,0.134,29,0\\n2,197,70,45,543,30.5,0.158,53,1\\n8,125,96,29,125,32.3,0.231999999999999,54,1\\n4,110,92,29,125,37.6,0.191,30,0\\n10,168,74,29,125,38,0.537,34,1\\n10,139,80,29,125,27.1,1.44099999999999,57,0\\n1,189,60,23,846,30.1,0.397999999999999,59,1\\n5,166,72,19,175,25.8,0.587,51,1\\n7,100,72.4051841746248,29,125,30,0.484,32,1\\n0,118,84,47,230,45.8,0.551,31,1\\n7,107,74,29,125,29.6,0.254,31,1\\n1,103,30,38,83,43.3,0.183,33,0\\n1,115,70,30,96,34.6,0.529,32,1\\n3,126,88,41,235,39.3,0.704,27,0\\n8,99,84,29,125,35.4,0.387999999999999,50,0\\n7,196,90,29,125,39.8,0.451,41,1\\n9,119,80,35,125,29,0.263,29,1\\n11,143,94,33,146,36.6,0.254,51,1\\n10,125,70,26,115,31.1,0.205,41,1\\n7,147,76,29,125,39.4,0.257,43,1\\n1,97,66,15,140,23.2,0.487,22,0\\n13,145,82,19,110,22.2,0.245,57,0\\n5,117,92,29,125,34.1,0.337,38,0\\n5,109,75,26,125,36,0.546,60,0\\n3,158,76,36,245,31.6,0.851,28,1\\n3,88,58,11,54,24.8,0.267,22,0\\n6,92,92,29,125,19.9,0.188,28,0\\n10,122,78,31,125,27.6,0.512,45,0\\n4,103,60,33,192,24,0.966,33,0\\n11,138,76,29,125,33.2,0.42,35,0\\n9,102,76,37,125,32.9,0.665,46,1\\n2,90,68,42,125,38.2,0.503,27,1\\n4,111,72,47,207,37.1,1.39,56,1\\n3,180,64,25,70,34,0.271,26,0\\n7,133,84,29,125,40.2,0.696,37,0\\n7,106,92,18,125,22.7,0.235,48,0\\n9,171,110,24,240,45.4,0.721,54,1\\n7,159,64,29,125,27.4,0.294,40,0\\n0,180,66,39,125,42,1.893,25,1\\n1,146,56,29,125,29.7,0.564,29,0\\n2,71,70,27,125,28,0.586,22,0\\n7,103,66,32,125,39.1,0.344,31,1\\n7,105,72.4051841746248,29,125,32.3,0.305,24,0\\n1,103,80,11,82,19.4,0.491,22,0\\n1,101,50,15,36,24.2,0.526,26,0\\n5,88,66,21,23,24.4,0.342,30,0\\n8,176,90,34,300,33.7,0.467,58,1\\n7,150,66,42,342,34.7,0.718,42,0\\n1,73,50,10,125,23,0.248,21,0\\n7,187,68,39,304,37.7,0.254,41,1\\n0,100,88,60,110,46.8,0.962,31,0\\n0,146,82,29,125,40.5,1.781,44,0\\n0,105,64,41,142,41.5,0.173,22,0\\n2,84,72.4051841746248,29,125,32.3,0.304,21,0\\n8,133,72,29,125,32.9,0.27,39,1\\n5,44,62,29,125,25,0.587,36,0\\n2,141,58,34,128,25.4,0.699,24,0\\n7,114,66,29,125,32.8,0.258,42,1\\n5,99,74,27,125,29,0.203,32,0\\n0,109,88,30,125,32.5,0.855,38,1\\n2,109,92,29,125,42.7,0.845,54,0\\n1,95,66,13,38,19.6,0.333999999999999,25,0\\n4,146,85,27,100,28.9,0.188999999999999,27,0\\n2,100,66,20,90,32.9,0.867,28,1\\n5,139,64,35,140,28.6,0.411,26,0\\n13,126,90,29,125,43.4,0.583,42,1\\n4,129,86,20,270,35.1,0.231,23,0\\n1,79,75,30,125,32,0.396,22,0\\n1,121.686762778505,48,20,125,24.7,0.14,22,0\\n7,62,78,29,125,32.6,0.391,41,0\\n5,95,72,33,125,37.7,0.37,27,0\\n0,131,72.4051841746248,29,125,43.2,0.27,26,1\\n2,112,66,22,125,25,0.307,24,0\\n3,113,44,13,125,22.4,0.14,22,0\\n2,74,72.4051841746248,29,125,32.3,0.102,22,0\\n7,83,78,26,71,29.3,0.767,36,0\\n0,101,65,28,125,24.6,0.237,22,0\\n5,137,108,29,125,48.8,0.226999999999999,37,1\\n2,110,74,29,125,32.4,0.698,27,0\\n13,106,72,54,125,36.6,0.178,45,0\\n2,100,68,25,71,38.5,0.324,26,0\\n15,136,70,32,110,37.1,0.153,43,1\\n1,107,68,19,125,26.5,0.165,24,0\\n1,80,55,29,125,19.1,0.258,21,0\\n4,123,80,15,176,32,0.442999999999999,34,0\\n7,81,78,40,48,46.7,0.261,42,0\\n4,134,72,29,125,23.8,0.276999999999999,60,1\\n2,142,82,18,64,24.7,0.760999999999999,21,0\\n6,144,72,27,228,33.9,0.255,40,0\\n2,92,62,28,125,31.6,0.13,24,0\\n1,71,48,18,76,20.4,0.322999999999999,22,0\\n6,93,50,30,64,28.7,0.356,23,0\\n1,122,90,51,220,49.7,0.325,31,1\\n1,163,72,29,125,39,1.222,33,1\\n1,151,60,29,125,26.1,0.179,22,0\\n0,125,96,29,125,22.5,0.262,21,0\\n1,81,72,18,40,26.6,0.283,24,0\\n2,85,65,29,125,39.6,0.93,27,0\\n1,126,56,29,152,28.7,0.800999999999999,21,0\\n1,96,122,29,125,22.4,0.207,27,0\\n4,144,58,28,140,29.5,0.287,37,0\\n3,83,58,31,18,34.3,0.336,25,0\\n0,95,85,25,36,37.4,0.247,24,1\\n3,171,72,33,135,33.3,0.198999999999999,24,1\\n8,155,62,26,495,34,0.542999999999999,46,1\\n1,89,76,34,37,31.2,0.192,23,0\\n4,76,62,29,125,34,0.391,25,0\\n7,160,54,32,175,30.5,0.588,39,1\\n4,146,92,29,125,31.2,0.539,61,1\\n5,124,74,29,125,34,0.22,38,1\\n5,78,48,29,125,33.7,0.654,25,0\\n4,97,60,23,125,28.2,0.442999999999999,22,0\\n4,99,76,15,51,23.2,0.223,21,0\\n0,162,76,56,100,53.2,0.759,25,1\\n6,111,64,39,125,34.2,0.26,24,0\\n2,107,74,30,100,33.6,0.403999999999999,23,0\\n5,132,80,29,125,26.8,0.186,69,0\\n0,113,76,29,125,33.3,0.278,23,1\\n1,88,30,42,99,55,0.496,26,1\\n3,120,70,30,135,42.9,0.452,30,0\\n1,118,58,36,94,33.3,0.261,23,0\\n1,117,88,24,145,34.5,0.402999999999999,40,1\\n0,105,84,29,125,27.9,0.741,62,1\\n4,173,70,14,168,29.7,0.361,33,1\\n9,122,56,29,125,33.3,1.114,33,1\\n3,170,64,37,225,34.5,0.356,30,1\\n8,84,74,31,125,38.3,0.457,39,0\\n2,96,68,13,49,21.1,0.647,26,0\\n2,125,60,20,140,33.8,0.088,31,0\\n0,100,70,26,50,30.8,0.597,21,0\\n0,93,60,25,92,28.7,0.532,22,0\\n0,129,80,29,125,31.2,0.703,29,0\\n5,105,72,29,325,36.9,0.159,28,0\\n3,128,78,29,125,21.1,0.268,55,0\\n5,106,82,30,125,39.5,0.286,38,0\\n2,108,52,26,63,32.5,0.318,22,0\\n10,108,66,29,125,32.4,0.272,42,1\\n4,154,62,31,284,32.8,0.237,23,0\\n0,102,75,23,125,32.3,0.572,21,0\\n9,57,80,37,125,32.8,0.096,41,0\\n2,106,64,35,119,30.5,1.4,34,0\\n5,147,78,29,125,33.7,0.218,65,0\\n2,90,70,17,125,27.3,0.085,22,0\\n1,136,74,50,204,37.4,0.398999999999999,24,0\\n4,114,65,29,125,21.9,0.432,37,0\\n9,156,86,28,155,34.3,1.189,42,1\\n1,153,82,42,485,40.6,0.687,23,0\\n8,188,78,29,125,47.9,0.136999999999999,43,1\\n7,152,88,44,125,50,0.337,36,1\\n2,99,52,15,94,24.6,0.637,21,0\\n1,109,56,21,135,25.2,0.833,23,0\\n2,88,74,19,53,29,0.228999999999999,22,0\\n17,163,72,41,114,40.9,0.817,47,1\\n4,151,90,38,125,29.7,0.294,36,0\\n7,102,74,40,105,37.2,0.204,45,0\\n0,114,80,34,285,44.2,0.166999999999999,27,0\\n2,100,64,23,125,29.7,0.368,21,0\\n0,131,88,29,125,31.6,0.743,32,1\\n6,104,74,18,156,29.9,0.722,41,1\\n3,148,66,25,125,32.5,0.256,22,0\\n4,120,68,29,125,29.6,0.709,34,0\\n4,110,66,29,125,31.9,0.471,29,0\\n3,111,90,12,78,28.4,0.495,29,0\\n6,102,82,29,125,30.8,0.18,36,1\\n6,134,70,23,130,35.4,0.542,29,1\\n2,87,72.4051841746248,23,125,28.9,0.773,25,0\\n1,79,60,42,48,43.5,0.677999999999999,23,0\\n2,75,64,24,55,29.7,0.37,33,0\\n8,179,72,42,130,32.7,0.719,36,1\\n6,85,78,29,125,31.2,0.382,42,0\\n0,129,110,46,130,67.1,0.319,26,1\\n5,143,78,29,125,45,0.19,47,0\\n5,130,82,29,125,39.1,0.956,37,1\\n6,87,80,29,125,23.2,0.084,32,0\\n0,119,64,18,92,34.9,0.725,23,0\\n1,121.686762778505,74,20,23,27.7,0.299,21,0\\n5,73,60,29,125,26.8,0.268,27,0\\n4,141,74,29,125,27.6,0.244,40,0\\n7,194,68,28,125,35.9,0.745,41,1\\n8,181,68,36,495,30.1,0.615,60,1\\n1,128,98,41,58,32,1.321,33,1\\n8,109,76,39,114,27.9,0.64,31,1\\n5,139,80,35,160,31.6,0.361,25,1\\n3,111,62,29,125,22.6,0.142,21,0\\n9,123,70,44,94,33.1,0.374,40,0\\n7,159,66,29,125,30.4,0.382999999999999,36,1\\n11,135,72.4051841746248,29,125,52.3,0.578,40,1\\n8,85,55,20,125,24.4,0.136,42,0\\n5,158,84,41,210,39.4,0.395,29,1\\n1,105,58,29,125,24.3,0.187,21,0\\n3,107,62,13,48,22.9,0.677999999999999,23,1\\n4,109,64,44,99,34.8,0.905,26,1\\n4,148,60,27,318,30.9,0.15,29,1\\n0,113,80,16,125,31,0.874,21,0\\n1,138,82,29,125,40.1,0.236,28,0\\n0,108,68,20,125,27.3,0.787,32,0\\n2,99,70,16,44,20.4,0.235,27,0\\n6,103,72,32,190,37.7,0.324,55,0\\n5,111,72,28,125,23.9,0.407,27,0\\n8,196,76,29,280,37.5,0.605,57,1\\n5,162,104,29,125,37.7,0.151,52,1\\n1,96,64,27,87,33.2,0.289,21,0\\n7,184,84,33,125,35.5,0.355,41,1\\n2,81,60,22,125,27.7,0.29,25,0\\n0,147,85,54,125,42.8,0.375,24,0\\n7,179,95,31,125,34.2,0.163999999999999,60,0\\n0,140,65,26,130,42.6,0.431,24,1\\n9,112,82,32,175,34.2,0.26,36,1\\n12,151,70,40,271,41.8,0.742,38,1\\n5,109,62,41,129,35.8,0.514,25,1\\n6,125,68,30,120,30,0.463999999999999,32,0\\n5,85,74,22,125,29,1.224,32,1\\n5,112,66,29,125,37.8,0.261,41,1\\n0,177,60,29,478,34.6,1.072,21,1\\n2,158,90,29,125,31.6,0.805,66,1\\n7,119,72.4051841746248,29,125,25.2,0.209,37,0\\n7,142,60,33,190,28.8,0.687,61,0\\n1,100,66,15,56,23.6,0.665999999999999,26,0\\n1,87,78,27,32,34.6,0.100999999999999,22,0\\n0,101,76,29,125,35.7,0.198,26,0\\n3,162,52,38,125,37.2,0.652,24,1\\n4,197,70,39,744,36.7,2.329,31,0\\n0,117,80,31,53,45.2,0.089,24,0\\n4,142,86,29,125,44,0.645,22,1\\n6,134,80,37,370,46.2,0.238,46,1\\n1,79,80,25,37,25.4,0.583,22,0\\n4,122,68,29,125,35,0.393999999999999,29,0\\n3,74,68,28,45,29.7,0.293,23,0\\n4,171,72,29,125,43.6,0.479,26,1\\n7,181,84,21,192,35.9,0.586,51,1\\n0,179,90,27,125,44.1,0.685999999999999,23,1\\n9,164,84,21,125,30.8,0.831,32,1\\n0,104,76,29,125,18.4,0.582,27,0\\n1,91,64,24,125,29.2,0.192,21,0\\n4,91,70,32,88,33.1,0.446,22,0\\n3,139,54,29,125,25.6,0.402,22,1\\n6,119,50,22,176,27.1,1.318,33,1\\n2,146,76,35,194,38.2,0.328999999999999,29,0\\n9,184,85,15,125,30,1.213,49,1\\n10,122,68,29,125,31.2,0.258,41,0\\n0,165,90,33,680,52.3,0.427,23,0\\n9,124,70,33,402,35.4,0.282,34,0\\n1,111,86,19,125,30.1,0.143,23,0\\n9,106,52,29,125,31.2,0.38,42,0\\n2,129,84,29,125,28,0.284,27,0\\n2,90,80,14,55,24.4,0.249,24,0\\n0,86,68,32,125,35.8,0.238,25,0\\n12,92,62,7,258,27.6,0.925999999999999,44,1\\n1,113,64,35,125,33.6,0.542999999999999,21,1\\n3,111,56,39,125,30.1,0.557,30,0\\n2,114,68,22,125,28.7,0.092,25,0\\n1,193,50,16,375,25.9,0.655,24,0\\n11,155,76,28,150,33.3,1.353,51,1\\n3,191,68,15,130,30.9,0.299,34,0\\n3,141,72.4051841746248,29,125,30,0.760999999999999,27,1\\n4,95,70,32,125,32.1,0.612,24,0\\n3,142,80,15,125,32.4,0.2,63,0\\n4,123,62,29,125,32,0.226,35,1\\n5,96,74,18,67,33.6,0.997,43,0\\n0,138,72.4051841746248,29,125,36.3,0.932999999999999,25,1\\n2,128,64,42,125,40,1.101,24,0\\n0,102,52,29,125,25.1,0.078,21,0\\n2,146,72.4051841746248,29,125,27.5,0.24,28,1\\n10,101,86,37,125,45.6,1.136,38,1\\n2,108,62,32,56,25.2,0.128,21,0\\n3,122,78,29,125,23,0.254,40,0\\n1,71,78,50,45,33.2,0.422,21,0\\n13,106,70,29,125,34.2,0.251,52,0\\n2,100,70,52,57,40.5,0.677,25,0\\n7,106,60,24,125,26.5,0.296,29,1\\n0,104,64,23,116,27.8,0.453999999999999,23,0\\n5,114,74,29,125,24.9,0.744,57,0\\n2,108,62,10,278,25.3,0.880999999999999,22,0\\n0,146,70,29,125,37.9,0.333999999999999,28,1\\n10,129,76,28,122,35.9,0.28,39,0\\n7,133,88,15,155,32.4,0.262,37,0\\n7,161,86,29,125,30.4,0.165,47,1\\n2,108,80,29,125,27,0.259,52,1\\n7,136,74,26,135,26,0.647,51,0\\n5,155,84,44,545,38.7,0.619,34,0\\n1,119,86,39,220,45.6,0.807999999999999,29,1\\n4,96,56,17,49,20.8,0.34,26,0\\n5,108,72,43,75,36.1,0.263,33,0\\n0,78,88,29,40,36.9,0.434,21,0\\n0,107,62,30,74,36.6,0.757,25,1\\n2,128,78,37,182,43.3,1.224,31,1\\n1,128,48,45,194,40.5,0.613,24,1\\n0,161,50,29,125,21.9,0.254,65,0\\n6,151,62,31,120,35.5,0.692,28,0\\n2,146,70,38,360,28,0.337,29,1\\n0,126,84,29,215,30.7,0.52,24,0\\n14,100,78,25,184,36.6,0.412,46,1\\n8,112,72,29,125,23.6,0.84,58,0\\n0,167,72.4051841746248,29,125,32.3,0.839,30,1\\n2,144,58,33,135,31.6,0.422,25,1\\n5,77,82,41,42,35.8,0.156,35,0\\n5,115,98,29,125,52.9,0.209,28,1\\n3,150,76,29,125,21,0.207,37,0\\n2,120,76,37,105,39.7,0.215,29,0\\n10,161,68,23,132,25.5,0.326,47,1\\n0,137,68,14,148,24.8,0.143,21,0\\n0,128,68,19,180,30.5,1.391,25,1\\n2,124,68,28,205,32.9,0.875,30,1\\n6,80,66,30,125,26.2,0.313,41,0\\n0,106,70,37,148,39.4,0.605,22,0\\n2,155,74,17,96,26.6,0.433,27,1\\n3,113,50,10,85,29.5,0.626,25,0\\n7,109,80,31,125,35.9,1.127,43,1\\n2,112,68,22,94,34.1,0.315,26,0\\n3,99,80,11,64,19.3,0.284,30,0\\n3,182,74,29,125,30.5,0.345,29,1\\n3,115,66,39,140,38.1,0.15,28,0\\n6,194,78,29,125,23.5,0.129,59,1\\n4,129,60,12,231,27.5,0.527,31,0\\n3,112,74,30,125,31.6,0.196999999999999,25,1\\n0,124,70,20,125,27.4,0.254,36,1\\n13,152,90,33,29,26.8,0.731,43,1\\n2,112,75,32,125,35.7,0.148,21,0\\n1,157,72,21,168,25.6,0.123,24,0\\n1,122,64,32,156,35.1,0.692,30,1\\n10,179,70,29,125,35.1,0.2,37,0\\n2,102,86,36,120,45.5,0.127,23,1\\n6,105,70,32,68,30.8,0.122,37,0\\n8,118,72,19,125,23.1,1.476,46,0\\n2,87,58,16,52,32.7,0.166,25,0\\n1,180,72.4051841746248,29,125,43.3,0.282,41,1\\n12,106,80,29,125,23.6,0.136999999999999,44,0\\n1,95,60,18,58,23.9,0.26,22,0\\n0,165,76,43,255,47.9,0.259,26,0\\n0,117,72.4051841746248,29,125,33.8,0.932,44,0\\n5,115,76,29,125,31.2,0.342999999999999,44,1\\n9,152,78,34,171,34.2,0.893,33,1\\n7,178,84,29,125,39.9,0.331,41,1\\n1,130,70,13,105,25.9,0.472,22,0\\n1,95,74,21,73,25.9,0.672999999999999,36,0\\n1,121.686762778505,68,35,125,32,0.389,22,0\\n5,122,86,29,125,34.7,0.29,33,0\\n8,95,72,29,125,36.8,0.485,57,0\\n8,126,88,36,108,38.5,0.349,49,0\\n1,139,46,19,83,28.7,0.654,22,0\\n3,116,72.4051841746248,29,125,23.5,0.187,23,0\\n3,99,62,19,74,21.8,0.278999999999999,26,0\\n5,121.686762778505,80,32,125,41,0.346,37,1\\n4,92,80,29,125,42.2,0.237,29,0\\n4,137,84,29,125,31.2,0.252,30,0\\n3,61,82,28,125,34.4,0.243,46,0\\n1,90,62,12,43,27.2,0.58,24,0\\n3,90,78,29,125,42.7,0.558999999999999,21,0\\n9,165,88,29,125,30.4,0.302,49,1\\n1,125,50,40,167,33.3,0.962,28,1\\n13,129,72.4051841746248,30,125,39.9,0.569,44,1\\n12,88,74,40,54,35.3,0.377999999999999,48,0\\n1,196,76,36,249,36.5,0.875,29,1\\n5,189,64,33,325,31.2,0.583,29,1\\n5,158,70,29,125,29.8,0.207,63,0\\n5,103,108,37,125,39.2,0.305,65,0\\n4,146,78,29,125,38.5,0.52,67,1\\n4,147,74,25,293,34.9,0.385,30,0\\n5,99,54,28,83,34,0.499,30,0\\n6,124,72,29,125,27.6,0.368,29,1\\n0,101,64,17,125,21,0.252,21,0\\n3,81,86,16,66,27.5,0.306,22,0\\n1,133,102,28,140,32.8,0.233999999999999,45,1\\n3,173,82,48,465,38.4,2.137,25,1\\n0,118,64,23,89,32.3,1.73099999999999,21,0\\n0,84,64,22,66,35.8,0.545,21,0\\n2,105,58,40,94,34.9,0.225,25,0\\n2,122,52,43,158,36.2,0.816,28,0\\n12,140,82,43,325,39.2,0.528,58,1\\n0,98,82,15,84,25.2,0.299,22,0\\n1,87,60,37,75,37.2,0.509,22,0\\n4,156,75,29,125,48.3,0.238,32,1\\n0,93,100,39,72,43.4,1.021,35,0\\n1,107,72,30,82,30.8,0.821,24,0\\n0,105,68,22,125,20,0.236,22,0\\n1,109,60,8,182,25.4,0.947,21,0\\n1,90,62,18,59,25.1,1.268,25,0\\n1,125,70,24,110,24.3,0.221,25,0\\n1,119,54,13,50,22.3,0.205,24,0\\n5,116,74,29,125,32.3,0.66,35,1\\n8,105,100,36,125,43.3,0.239,45,1\\n5,144,82,26,285,32,0.452,58,1\\n3,100,68,23,81,31.6,0.949,28,0\\n1,100,66,29,196,32,0.444,42,0\\n5,166,76,29,125,45.7,0.34,27,1\\n1,131,64,14,415,23.7,0.389,21,0\\n4,116,72,12,87,22.1,0.462999999999999,37,0\\n4,158,78,29,125,32.9,0.802999999999999,31,1\\n2,127,58,24,275,27.7,1.6,25,0\\n3,96,56,34,115,24.7,0.944,39,0\\n0,131,66,40,125,34.3,0.196,22,1\\n3,82,70,29,125,21.1,0.389,25,0\\n3,193,70,31,125,34.9,0.241,25,1\\n4,95,64,29,125,32,0.161,31,1\\n6,137,61,29,125,24.2,0.151,55,0\\n5,136,84,41,88,35,0.286,35,1\\n9,72,78,25,125,31.6,0.28,38,0\\n5,168,64,29,125,32.9,0.135,41,1\\n2,123,48,32,165,42.1,0.52,26,0\\n4,115,72,29,125,28.9,0.376,46,1\\n0,101,62,29,125,21.9,0.336,25,0\\n8,197,74,29,125,25.9,1.19099999999999,39,1\\n1,172,68,49,579,42.4,0.702,28,1\\n6,102,90,39,125,35.7,0.674,28,0\\n1,112,72,30,176,34.4,0.528,25,0\\n1,143,84,23,310,42.4,1.07599999999999,22,0\\n1,143,74,22,61,26.2,0.256,21,0\\n0,138,60,35,167,34.6,0.534,21,1\\n3,173,84,33,474,35.7,0.258,22,1\\n1,97,68,21,125,27.2,1.095,22,0\\n4,144,82,32,125,38.5,0.553999999999999,37,1\\n1,83,68,29,125,18.2,0.624,27,0\\n3,129,64,29,115,26.4,0.218999999999999,28,1\\n1,119,88,41,170,45.3,0.507,26,0\\n2,94,68,18,76,26,0.561,21,0\\n0,102,64,46,78,40.6,0.496,21,0\\n2,115,64,22,125,30.8,0.421,21,0\\n8,151,78,32,210,42.9,0.516,36,1\\n4,184,78,39,277,37,0.264,31,1\\n0,94,72.4051841746248,29,125,32.3,0.256,25,0\\n1,181,64,30,180,34.1,0.327999999999999,38,1\\n0,135,94,46,145,40.6,0.284,26,0\\n1,95,82,25,180,35,0.233,43,1\\n2,99,72.4051841746248,29,125,22.2,0.108,23,0\\n3,89,74,16,85,30.4,0.551,38,0\\n1,80,74,11,60,30,0.527,22,0\\n2,139,75,29,125,25.6,0.166999999999999,29,0\\n1,90,68,8,125,24.5,1.138,36,0\\n0,141,72.4051841746248,29,125,42.4,0.205,29,1\\n12,140,85,33,125,37.4,0.244,41,0\\n5,147,75,29,125,29.9,0.434,28,0\\n1,97,70,15,125,18.2,0.147,21,0\\n6,107,88,29,125,36.8,0.727,31,0\\n0,189,104,25,125,34.3,0.435,41,1\\n2,83,66,23,50,32.2,0.497,22,0\\n4,117,64,27,120,33.2,0.23,24,0\\n8,108,70,29,125,30.5,0.955,33,1\\n4,117,62,12,125,29.7,0.38,30,1\\n0,180,78,63,14,59.4,2.42,25,1\\n1,100,72,12,70,25.3,0.657999999999999,28,0\\n0,95,80,45,92,36.5,0.33,26,0\\n0,104,64,37,64,33.6,0.51,22,1\\n0,120,74,18,63,30.5,0.285,26,0\\n1,82,64,13,95,21.2,0.415,23,0\\n2,134,70,29,125,28.9,0.542,23,1\\n0,91,68,32,210,39.9,0.381,25,0\\n2,119,72.4051841746248,29,125,19.6,0.832,72,0\\n2,100,54,28,105,37.8,0.498,24,0\\n14,175,62,30,125,33.6,0.212,38,1\\n1,135,54,29,125,26.7,0.687,62,0\\n5,86,68,28,71,30.2,0.364,24,0\\n10,148,84,48,237,37.6,1.001,51,1\\n9,134,74,33,60,25.9,0.46,81,0\\n9,120,72,22,56,20.8,0.733,48,0\\n1,71,62,29,125,21.8,0.416,26,0\\n8,74,70,40,49,35.3,0.705,39,0\\n5,88,78,30,125,27.6,0.258,37,0\\n10,115,98,29,125,24,1.022,34,0\\n0,124,56,13,105,21.8,0.452,21,0\\n0,74,52,10,36,27.8,0.268999999999999,22,0\\n0,97,64,36,100,36.8,0.6,25,0\\n8,120,72.4051841746248,29,125,30,0.183,38,1\\n6,154,78,41,140,46.1,0.571,27,0\\n1,144,82,40,125,41.3,0.607,28,0\\n0,137,70,38,125,33.2,0.17,22,0\\n0,119,66,27,125,38.8,0.259,22,0\\n7,136,90,29,125,29.9,0.21,50,0\\n4,114,64,29,125,28.9,0.126,24,0\\n0,137,84,27,125,27.3,0.231,59,0\\n2,105,80,45,191,33.7,0.711,29,1\\n7,114,76,17,110,23.8,0.466,31,0\\n8,126,74,38,75,25.9,0.162,39,0\\n4,132,86,31,125,28,0.419,63,0\\n3,158,70,30,328,35.5,0.344,35,1\\n0,123,88,37,125,35.2,0.196999999999999,29,0\\n4,85,58,22,49,27.8,0.306,28,0\\n0,84,82,31,125,38.2,0.233,23,0\\n0,145,72.4051841746248,29,125,44.2,0.63,31,1\\n0,135,68,42,250,42.3,0.365,24,1\\n1,139,62,41,480,40.7,0.536,21,0\\n0,173,78,32,265,46.5,1.159,58,0\\n4,99,72,17,125,25.6,0.294,28,0\\n8,194,80,29,125,26.1,0.551,67,0\\n2,83,65,28,66,36.8,0.629,24,0\\n2,89,90,30,125,33.5,0.292,42,0\\n4,99,68,38,125,32.8,0.145,33,0\\n4,125,70,18,122,28.9,1.144,45,1\\n3,80,72.4051841746248,29,125,32.3,0.174,22,0\\n6,166,74,29,125,26.6,0.304,66,0\\n5,110,68,29,125,26,0.292,30,0\\n2,81,72,15,76,30.1,0.547,25,0\\n7,195,70,33,145,25.1,0.163,55,1\\n6,154,74,32,193,29.3,0.839,39,0\\n2,117,90,19,71,25.2,0.313,21,0\\n3,84,72,32,125,37.2,0.267,28,0\\n6,121.686762778505,68,41,125,39,0.727,41,1\\n7,94,64,25,79,33.3,0.738,41,0\\n3,96,78,39,125,37.3,0.238,40,0\\n10,75,82,29,125,33.3,0.263,38,0\\n0,180,90,26,90,36.5,0.314,35,1\\n1,130,60,23,170,28.6,0.692,21,0\\n2,84,50,23,76,30.4,0.968,21,0\\n8,120,78,29,125,25,0.409,64,0\\n12,84,72,31,125,29.7,0.297,46,1\\n0,139,62,17,210,22.1,0.207,21,0\\n9,91,68,29,125,24.2,0.2,58,0\\n2,91,62,29,125,27.3,0.525,22,0\\n3,99,54,19,86,25.6,0.154,24,0\\n3,163,70,18,105,31.6,0.268,28,1\\n9,145,88,34,165,30.3,0.770999999999999,53,1\\n7,125,86,29,125,37.6,0.304,51,0\\n13,76,60,29,125,32.8,0.18,41,0\\n6,129,90,7,326,19.6,0.582,60,0\\n2,68,70,32,66,25,0.187,25,0\\n3,124,80,33,130,33.2,0.305,26,0\\n6,114,72.4051841746248,29,125,32.3,0.188999999999999,26,0\\n9,130,70,29,125,34.2,0.652,45,1\\n3,125,58,29,125,31.6,0.151,24,0\\n3,87,60,18,125,21.8,0.444,21,0\\n1,97,64,19,82,18.2,0.299,21,0\\n3,116,74,15,105,26.3,0.107,24,0\\n0,117,66,31,188,30.8,0.493,22,0\\n0,111,65,29,125,24.6,0.66,31,0\\n2,122,60,18,106,29.8,0.717,22,0\\n0,107,76,29,125,45.3,0.685999999999999,24,0\\n1,86,66,52,65,41.3,0.917,29,0\\n6,91,72.4051841746248,29,125,29.8,0.501,31,0\\n1,77,56,30,56,33.3,1.251,24,0\\n4,132,72.4051841746248,29,125,32.9,0.302,23,1\\n0,105,90,29,125,29.6,0.196999999999999,46,0\\n0,57,60,29,125,21.7,0.735,67,0\\n0,127,80,37,210,36.3,0.804,23,0\\n3,129,92,49,155,36.4,0.968,32,1\\n8,100,74,40,215,39.4,0.660999999999999,43,1\\n3,128,72,25,190,32.4,0.548999999999999,27,1\\n10,90,85,32,125,34.9,0.825,56,1\\n4,84,90,23,56,39.5,0.159,25,0\\n1,88,78,29,76,32,0.365,29,0\\n8,186,90,35,225,34.5,0.423,37,1\\n5,187,76,27,207,43.6,1.034,53,1\\n4,131,68,21,166,33.1,0.16,28,0\\n1,164,82,43,67,32.8,0.341,50,0\\n4,189,110,31,125,28.5,0.68,37,0\\n1,116,70,28,125,27.4,0.204,21,0\\n3,84,68,30,106,31.9,0.591,25,0\\n6,114,88,29,125,27.8,0.247,66,0\\n1,88,62,24,44,29.9,0.422,23,0\\n1,84,64,23,115,36.9,0.471,28,0\\n7,124,70,33,215,25.5,0.161,37,0\\n1,97,70,40,125,38.1,0.218,30,0\\n8,110,76,29,125,27.8,0.237,58,0\\n11,103,68,40,125,46.2,0.126,42,0\\n11,85,74,29,125,30.1,0.3,35,0\\n6,125,76,29,125,33.8,0.121,54,1\\n0,198,66,32,274,41.3,0.502,28,1\\n1,87,68,34,77,37.6,0.401,24,0\\n6,99,60,19,54,26.9,0.497,32,0\\n0,91,80,29,125,32.4,0.601,27,0\\n2,95,54,14,88,26.1,0.748,22,0\\n1,99,72,30,18,38.6,0.412,21,0\\n6,92,62,32,126,32,0.085,46,0\\n4,154,72,29,126,31.3,0.337999999999999,37,0\\n0,121,66,30,165,34.3,0.203,33,1\\n3,78,70,29,125,32.5,0.27,39,0\\n2,130,96,29,125,22.6,0.268,21,0\\n3,111,58,31,44,29.5,0.43,22,0\\n2,98,60,17,120,34.7,0.198,22,0\\n1,143,86,30,330,30.1,0.892,23,0\\n1,119,44,47,63,35.5,0.28,25,0\\n6,108,44,20,130,24,0.813,35,0\\n2,118,80,29,125,42.9,0.693,21,1\\n10,133,68,29,125,27,0.245,36,0\\n2,197,70,99,125,34.7,0.575,62,1\\n0,151,90,46,125,42.1,0.371,21,1\\n6,109,60,27,125,25,0.206,27,0\\n12,121,78,17,125,26.5,0.259,62,0\\n8,100,76,29,125,38.7,0.19,42,0\\n8,124,76,24,600,28.7,0.687,52,1\\n1,93,56,11,125,22.5,0.417,22,0\\n8,143,66,29,125,34.9,0.129,41,1\\n6,103,66,29,125,24.3,0.249,29,0\\n3,176,86,27,156,33.3,1.154,52,1\\n0,73,72.4051841746248,29,125,21.1,0.342,25,0\\n11,111,84,40,125,46.8,0.925,45,1\\n2,112,78,50,140,39.4,0.175,24,0\\n3,132,80,29,125,34.4,0.402,44,1\\n2,82,52,22,115,28.5,1.699,25,0\\n6,123,72,45,230,33.6,0.733,34,0\\n0,188,82,14,185,32,0.682,22,1\\n0,67,76,29,125,45.3,0.193999999999999,46,0\\n1,89,24,19,25,27.8,0.558999999999999,21,0\\n1,173,74,29,125,36.8,0.088,38,1\\n1,109,38,18,120,23.1,0.407,26,0\\n1,108,88,19,125,27.1,0.4,24,0\\n6,96,72.4051841746248,29,125,23.7,0.19,28,0\\n1,124,74,36,125,27.8,0.1,30,0\\n7,150,78,29,126,35.2,0.692,54,1\\n4,183,72.4051841746248,29,125,28.4,0.212,36,1\\n1,124,60,32,125,35.8,0.514,21,0\\n1,181,78,42,293,40,1.258,22,1\\n1,92,62,25,41,19.5,0.482,25,0\\n0,152,82,39,272,41.5,0.27,27,0\\n1,111,62,13,182,24,0.138,23,0\\n3,106,54,21,158,30.9,0.292,24,0\\n3,174,58,22,194,32.9,0.593,36,1\\n7,168,88,42,321,38.2,0.787,40,1\\n6,105,80,28,125,32.5,0.878,26,0\\n11,138,74,26,144,36.1,0.557,50,1\\n3,106,72,29,125,25.8,0.207,27,0\\n6,117,96,29,125,28.7,0.157,30,0\\n2,68,62,13,15,20.1,0.257,23,0\\n9,112,82,24,125,28.2,1.28199999999999,50,1\\n0,119,72.4051841746248,29,125,32.4,0.141,24,1\\n2,112,86,42,160,38.4,0.246,28,0\\n2,92,76,20,125,24.2,1.698,28,0\\n6,183,94,29,125,40.8,1.46099999999999,45,0\\n0,94,70,27,115,43.5,0.347,21,0\\n2,108,64,29,125,30.8,0.158,21,0\\n4,90,88,47,54,37.7,0.362,29,0\\n0,125,68,29,125,24.7,0.206,21,0\\n0,132,78,29,125,32.4,0.392999999999999,21,0\\n5,128,80,29,125,34.6,0.144,45,0\\n4,94,65,22,125,24.7,0.148,21,0\\n7,114,64,29,125,27.4,0.732,34,1\\n0,102,78,40,90,34.5,0.238,24,0\\n2,111,60,29,125,26.2,0.342999999999999,23,0\\n1,128,82,17,183,27.5,0.115,22,0\\n10,92,62,29,125,25.9,0.166999999999999,31,0\\n13,104,72,29,125,31.2,0.465,38,1\\n5,104,74,29,125,28.8,0.153,48,0\\n2,94,76,18,66,31.6,0.649,23,0\\n7,97,76,32,91,40.9,0.871,32,1\\n1,100,74,12,46,19.5,0.149,28,0\\n0,102,86,17,105,29.3,0.695,27,0\\n4,128,70,29,125,34.3,0.303,24,0\\n6,147,80,29,125,29.5,0.178,50,1\\n4,90,72.4051841746248,29,125,28,0.61,31,0\\n3,103,72,30,152,27.6,0.73,27,0\\n2,157,74,35,440,39.4,0.134,30,0\\n1,167,74,17,144,23.4,0.447,33,1\\n0,179,50,36,159,37.8,0.455,22,1\\n11,136,84,35,130,28.3,0.26,42,1\\n0,107,60,25,125,26.4,0.133,23,0\\n1,91,54,25,100,25.2,0.233999999999999,23,0\\n1,117,60,23,106,33.8,0.466,27,0\\n5,123,74,40,77,34.1,0.268999999999999,28,0\\n2,120,54,29,125,26.8,0.455,27,0\\n1,106,70,28,135,34.2,0.142,22,0\\n2,155,52,27,540,38.7,0.24,25,1\\n2,101,58,35,90,21.8,0.155,22,0\\n1,120,80,48,200,38.9,1.162,41,0\\n11,127,106,29,125,39,0.19,51,0\\n3,80,82,31,70,34.2,1.29199999999999,27,1\\n10,162,84,29,125,27.7,0.182,54,0\\n1,199,76,43,125,42.9,1.394,22,1\\n8,167,106,46,231,37.6,0.165,43,1\\n9,145,80,46,130,37.9,0.637,40,1\\n6,115,60,39,125,33.7,0.245,40,1\\n1,112,80,45,132,34.8,0.217,24,0\\n4,145,82,18,125,32.5,0.235,70,1\\n10,111,70,27,125,27.5,0.141,40,1\\n6,98,58,33,190,34,0.43,43,0\\n9,154,78,30,100,30.9,0.163999999999999,45,0\\n6,165,68,26,168,33.6,0.631,49,0\\n1,99,58,10,125,25.4,0.551,21,0\\n10,68,106,23,49,35.5,0.285,47,0\\n3,123,100,35,240,57.3,0.88,22,0\\n8,91,82,29,125,35.6,0.587,68,0\\n6,195,70,29,125,30.9,0.327999999999999,31,1\\n9,156,86,29,125,24.8,0.23,53,1\\n0,93,60,29,125,35.3,0.263,25,0\\n3,121,52,29,125,36,0.127,25,1\\n2,101,58,17,265,24.2,0.614,23,0\\n2,56,56,28,45,24.2,0.332,22,0\\n0,162,76,36,125,49.6,0.364,26,1\\n0,95,64,39,105,44.6,0.366,22,0\\n4,125,80,29,125,32.3,0.536,27,1\\n5,136,82,29,125,32.3,0.64,69,0\\n2,129,74,26,205,33.2,0.591,25,0\\n3,130,64,29,125,23.1,0.314,22,0\\n1,107,50,19,125,28.3,0.181,29,0\\n1,140,74,26,180,24.1,0.828,23,0\\n1,144,82,46,180,46.1,0.335,46,1\\n8,107,80,29,125,24.6,0.856,34,0\\n13,158,114,29,125,42.3,0.257,44,1\\n2,121,70,32,95,39.1,0.885999999999999,23,0\\n7,129,68,49,125,38.5,0.439,43,1\\n2,90,60,29,125,23.5,0.191,25,0\\n7,142,90,24,480,30.4,0.128,43,1\\n3,169,74,19,125,29.9,0.268,31,1\\n0,99,72.4051841746248,29,125,25,0.253,22,0\\n4,127,88,11,155,34.5,0.598,28,0\\n4,118,70,29,125,44.5,0.904,26,0\\n2,122,76,27,200,35.9,0.483,26,0\\n6,125,78,31,125,27.6,0.565,49,1\\n1,168,88,29,125,35,0.905,52,1\\n2,129,72.4051841746248,29,125,38.5,0.304,41,0\\n4,110,76,20,100,28.4,0.118,27,0\\n6,80,80,36,125,39.8,0.177,28,0\\n10,115,72.4051841746248,29,125,32.3,0.261,30,1\\n2,127,46,21,335,34.4,0.176,22,0\\n9,164,78,29,125,32.8,0.148,45,1\\n2,93,64,32,160,38,0.674,23,1\\n3,158,64,13,387,31.2,0.295,24,0\\n5,126,78,27,22,29.6,0.439,40,0\\n10,129,62,36,125,41.2,0.441,38,1\\n0,134,58,20,291,26.4,0.352,21,0\\n3,102,74,29,125,29.5,0.121,32,0\\n7,187,50,33,392,33.9,0.826,34,1\\n3,173,78,39,185,33.8,0.97,31,1\\n10,94,72,18,125,23.1,0.595,56,0\\n1,108,60,46,178,35.5,0.415,24,0\\n5,97,76,27,125,35.6,0.377999999999999,52,1\\n4,83,86,19,125,29.3,0.317,34,0\\n1,114,66,36,200,38.1,0.289,21,0\\n1,149,68,29,127,29.3,0.349,42,1\\n5,117,86,30,105,39.1,0.251,42,0\\n1,111,94,29,125,32.8,0.265,45,0\\n4,112,78,40,125,39.4,0.236,38,0\\n1,116,78,29,180,36.1,0.496,25,0\\n0,141,84,26,125,32.4,0.433,22,0\\n2,175,88,29,125,22.9,0.326,22,0\\n2,92,52,29,125,30.1,0.141,22,0\\n3,130,78,23,79,28.4,0.322999999999999,34,1\\n8,120,86,29,125,28.4,0.259,22,1\\n2,174,88,37,120,44.5,0.645999999999999,24,1\\n2,106,56,27,165,29,0.426,22,0\\n2,105,75,29,125,23.3,0.56,53,0\\n4,95,60,32,125,35.4,0.284,28,0\\n0,126,86,27,120,27.4,0.515,21,0\\n8,65,72,23,125,32,0.6,42,0\\n2,99,60,17,160,36.6,0.452999999999999,21,0\\n1,102,74,29,125,39.5,0.293,42,1\\n11,120,80,37,150,42.3,0.785,48,1\\n3,102,44,20,94,30.8,0.4,26,0\\n1,109,58,18,116,28.5,0.218999999999999,22,0\\n9,140,94,29,125,32.7,0.734,45,1\\n13,153,88,37,140,40.6,1.174,39,0\\n12,100,84,33,105,30,0.488,46,0\\n1,147,94,41,125,49.3,0.358,27,1\\n1,81,74,41,57,46.3,1.09599999999999,32,0\\n3,187,70,22,200,36.4,0.408,36,1\\n6,162,62,29,125,24.3,0.178,50,1\\n4,136,70,29,125,31.2,1.182,22,1\\n1,121,78,39,74,39,0.261,28,0\\n3,108,62,24,125,26,0.223,25,0\\n0,181,88,44,510,43.3,0.222,26,1\\n8,154,78,32,125,32.4,0.442999999999999,45,1\\n1,128,88,39,110,36.5,1.057,37,1\\n7,137,90,41,125,32,0.391,39,0\\n0,123,72,29,125,36.3,0.258,52,1\\n1,106,76,29,125,37.5,0.196999999999999,26,0\\n6,190,92,29,125,35.5,0.278,66,1\\n2,88,58,26,16,28.4,0.765999999999999,22,0\\n9,170,74,31,125,44,0.402999999999999,43,1\\n9,89,62,29,125,22.5,0.142,33,0\\n10,101,76,48,180,32.9,0.171,63,0\\n2,122,70,27,125,36.8,0.34,27,0\\n5,121,72,23,112,26.2,0.245,30,0\\n1,126,60,29,125,30.1,0.349,47,1\\n1,93,70,31,125,30.4,0.315,23,0\\n'}"
            ]
          },
          "metadata": {},
          "execution_count": 19
        }
      ]
    },
    {
      "cell_type": "code",
      "source": [
        "import pandas as pd\n",
        "df = pd.read_csv(\"/content/preprocessed_diabetes_data.csv\")\n",
        "df"
      ],
      "metadata": {
        "colab": {
          "base_uri": "https://localhost:8080/",
          "height": 488
        },
        "id": "mR2dcvUV9TYb",
        "outputId": "eaa5512d-b756-4bd3-fda3-824d8d497a9a"
      },
      "execution_count": 20,
      "outputs": [
        {
          "output_type": "execute_result",
          "data": {
            "text/plain": [
              "     Pregnancies  Glucose  BloodPressure  SkinThickness  Insulin   BMI  \\\n",
              "0              6    148.0           72.0             35      125  33.6   \n",
              "1              1     85.0           66.0             29      125  26.6   \n",
              "2              8    183.0           64.0             29      125  23.3   \n",
              "3              1     89.0           66.0             23       94  28.1   \n",
              "4              0    137.0           40.0             35      168  43.1   \n",
              "..           ...      ...            ...            ...      ...   ...   \n",
              "763           10    101.0           76.0             48      180  32.9   \n",
              "764            2    122.0           70.0             27      125  36.8   \n",
              "765            5    121.0           72.0             23      112  26.2   \n",
              "766            1    126.0           60.0             29      125  30.1   \n",
              "767            1     93.0           70.0             31      125  30.4   \n",
              "\n",
              "     DiabetesPedigreeFunction  Age  Outcome  \n",
              "0                       0.627   50        1  \n",
              "1                       0.351   31        0  \n",
              "2                       0.672   32        1  \n",
              "3                       0.167   21        0  \n",
              "4                       2.288   33        1  \n",
              "..                        ...  ...      ...  \n",
              "763                     0.171   63        0  \n",
              "764                     0.340   27        0  \n",
              "765                     0.245   30        0  \n",
              "766                     0.349   47        1  \n",
              "767                     0.315   23        0  \n",
              "\n",
              "[768 rows x 9 columns]"
            ],
            "text/html": [
              "\n",
              "  <div id=\"df-c42c151e-9ace-4d63-9581-b78013714c65\">\n",
              "    <div class=\"colab-df-container\">\n",
              "      <div>\n",
              "<style scoped>\n",
              "    .dataframe tbody tr th:only-of-type {\n",
              "        vertical-align: middle;\n",
              "    }\n",
              "\n",
              "    .dataframe tbody tr th {\n",
              "        vertical-align: top;\n",
              "    }\n",
              "\n",
              "    .dataframe thead th {\n",
              "        text-align: right;\n",
              "    }\n",
              "</style>\n",
              "<table border=\"1\" class=\"dataframe\">\n",
              "  <thead>\n",
              "    <tr style=\"text-align: right;\">\n",
              "      <th></th>\n",
              "      <th>Pregnancies</th>\n",
              "      <th>Glucose</th>\n",
              "      <th>BloodPressure</th>\n",
              "      <th>SkinThickness</th>\n",
              "      <th>Insulin</th>\n",
              "      <th>BMI</th>\n",
              "      <th>DiabetesPedigreeFunction</th>\n",
              "      <th>Age</th>\n",
              "      <th>Outcome</th>\n",
              "    </tr>\n",
              "  </thead>\n",
              "  <tbody>\n",
              "    <tr>\n",
              "      <th>0</th>\n",
              "      <td>6</td>\n",
              "      <td>148.0</td>\n",
              "      <td>72.0</td>\n",
              "      <td>35</td>\n",
              "      <td>125</td>\n",
              "      <td>33.6</td>\n",
              "      <td>0.627</td>\n",
              "      <td>50</td>\n",
              "      <td>1</td>\n",
              "    </tr>\n",
              "    <tr>\n",
              "      <th>1</th>\n",
              "      <td>1</td>\n",
              "      <td>85.0</td>\n",
              "      <td>66.0</td>\n",
              "      <td>29</td>\n",
              "      <td>125</td>\n",
              "      <td>26.6</td>\n",
              "      <td>0.351</td>\n",
              "      <td>31</td>\n",
              "      <td>0</td>\n",
              "    </tr>\n",
              "    <tr>\n",
              "      <th>2</th>\n",
              "      <td>8</td>\n",
              "      <td>183.0</td>\n",
              "      <td>64.0</td>\n",
              "      <td>29</td>\n",
              "      <td>125</td>\n",
              "      <td>23.3</td>\n",
              "      <td>0.672</td>\n",
              "      <td>32</td>\n",
              "      <td>1</td>\n",
              "    </tr>\n",
              "    <tr>\n",
              "      <th>3</th>\n",
              "      <td>1</td>\n",
              "      <td>89.0</td>\n",
              "      <td>66.0</td>\n",
              "      <td>23</td>\n",
              "      <td>94</td>\n",
              "      <td>28.1</td>\n",
              "      <td>0.167</td>\n",
              "      <td>21</td>\n",
              "      <td>0</td>\n",
              "    </tr>\n",
              "    <tr>\n",
              "      <th>4</th>\n",
              "      <td>0</td>\n",
              "      <td>137.0</td>\n",
              "      <td>40.0</td>\n",
              "      <td>35</td>\n",
              "      <td>168</td>\n",
              "      <td>43.1</td>\n",
              "      <td>2.288</td>\n",
              "      <td>33</td>\n",
              "      <td>1</td>\n",
              "    </tr>\n",
              "    <tr>\n",
              "      <th>...</th>\n",
              "      <td>...</td>\n",
              "      <td>...</td>\n",
              "      <td>...</td>\n",
              "      <td>...</td>\n",
              "      <td>...</td>\n",
              "      <td>...</td>\n",
              "      <td>...</td>\n",
              "      <td>...</td>\n",
              "      <td>...</td>\n",
              "    </tr>\n",
              "    <tr>\n",
              "      <th>763</th>\n",
              "      <td>10</td>\n",
              "      <td>101.0</td>\n",
              "      <td>76.0</td>\n",
              "      <td>48</td>\n",
              "      <td>180</td>\n",
              "      <td>32.9</td>\n",
              "      <td>0.171</td>\n",
              "      <td>63</td>\n",
              "      <td>0</td>\n",
              "    </tr>\n",
              "    <tr>\n",
              "      <th>764</th>\n",
              "      <td>2</td>\n",
              "      <td>122.0</td>\n",
              "      <td>70.0</td>\n",
              "      <td>27</td>\n",
              "      <td>125</td>\n",
              "      <td>36.8</td>\n",
              "      <td>0.340</td>\n",
              "      <td>27</td>\n",
              "      <td>0</td>\n",
              "    </tr>\n",
              "    <tr>\n",
              "      <th>765</th>\n",
              "      <td>5</td>\n",
              "      <td>121.0</td>\n",
              "      <td>72.0</td>\n",
              "      <td>23</td>\n",
              "      <td>112</td>\n",
              "      <td>26.2</td>\n",
              "      <td>0.245</td>\n",
              "      <td>30</td>\n",
              "      <td>0</td>\n",
              "    </tr>\n",
              "    <tr>\n",
              "      <th>766</th>\n",
              "      <td>1</td>\n",
              "      <td>126.0</td>\n",
              "      <td>60.0</td>\n",
              "      <td>29</td>\n",
              "      <td>125</td>\n",
              "      <td>30.1</td>\n",
              "      <td>0.349</td>\n",
              "      <td>47</td>\n",
              "      <td>1</td>\n",
              "    </tr>\n",
              "    <tr>\n",
              "      <th>767</th>\n",
              "      <td>1</td>\n",
              "      <td>93.0</td>\n",
              "      <td>70.0</td>\n",
              "      <td>31</td>\n",
              "      <td>125</td>\n",
              "      <td>30.4</td>\n",
              "      <td>0.315</td>\n",
              "      <td>23</td>\n",
              "      <td>0</td>\n",
              "    </tr>\n",
              "  </tbody>\n",
              "</table>\n",
              "<p>768 rows × 9 columns</p>\n",
              "</div>\n",
              "      <button class=\"colab-df-convert\" onclick=\"convertToInteractive('df-c42c151e-9ace-4d63-9581-b78013714c65')\"\n",
              "              title=\"Convert this dataframe to an interactive table.\"\n",
              "              style=\"display:none;\">\n",
              "        \n",
              "  <svg xmlns=\"http://www.w3.org/2000/svg\" height=\"24px\"viewBox=\"0 0 24 24\"\n",
              "       width=\"24px\">\n",
              "    <path d=\"M0 0h24v24H0V0z\" fill=\"none\"/>\n",
              "    <path d=\"M18.56 5.44l.94 2.06.94-2.06 2.06-.94-2.06-.94-.94-2.06-.94 2.06-2.06.94zm-11 1L8.5 8.5l.94-2.06 2.06-.94-2.06-.94L8.5 2.5l-.94 2.06-2.06.94zm10 10l.94 2.06.94-2.06 2.06-.94-2.06-.94-.94-2.06-.94 2.06-2.06.94z\"/><path d=\"M17.41 7.96l-1.37-1.37c-.4-.4-.92-.59-1.43-.59-.52 0-1.04.2-1.43.59L10.3 9.45l-7.72 7.72c-.78.78-.78 2.05 0 2.83L4 21.41c.39.39.9.59 1.41.59.51 0 1.02-.2 1.41-.59l7.78-7.78 2.81-2.81c.8-.78.8-2.07 0-2.86zM5.41 20L4 18.59l7.72-7.72 1.47 1.35L5.41 20z\"/>\n",
              "  </svg>\n",
              "      </button>\n",
              "      \n",
              "  <style>\n",
              "    .colab-df-container {\n",
              "      display:flex;\n",
              "      flex-wrap:wrap;\n",
              "      gap: 12px;\n",
              "    }\n",
              "\n",
              "    .colab-df-convert {\n",
              "      background-color: #E8F0FE;\n",
              "      border: none;\n",
              "      border-radius: 50%;\n",
              "      cursor: pointer;\n",
              "      display: none;\n",
              "      fill: #1967D2;\n",
              "      height: 32px;\n",
              "      padding: 0 0 0 0;\n",
              "      width: 32px;\n",
              "    }\n",
              "\n",
              "    .colab-df-convert:hover {\n",
              "      background-color: #E2EBFA;\n",
              "      box-shadow: 0px 1px 2px rgba(60, 64, 67, 0.3), 0px 1px 3px 1px rgba(60, 64, 67, 0.15);\n",
              "      fill: #174EA6;\n",
              "    }\n",
              "\n",
              "    [theme=dark] .colab-df-convert {\n",
              "      background-color: #3B4455;\n",
              "      fill: #D2E3FC;\n",
              "    }\n",
              "\n",
              "    [theme=dark] .colab-df-convert:hover {\n",
              "      background-color: #434B5C;\n",
              "      box-shadow: 0px 1px 3px 1px rgba(0, 0, 0, 0.15);\n",
              "      filter: drop-shadow(0px 1px 2px rgba(0, 0, 0, 0.3));\n",
              "      fill: #FFFFFF;\n",
              "    }\n",
              "  </style>\n",
              "\n",
              "      <script>\n",
              "        const buttonEl =\n",
              "          document.querySelector('#df-c42c151e-9ace-4d63-9581-b78013714c65 button.colab-df-convert');\n",
              "        buttonEl.style.display =\n",
              "          google.colab.kernel.accessAllowed ? 'block' : 'none';\n",
              "\n",
              "        async function convertToInteractive(key) {\n",
              "          const element = document.querySelector('#df-c42c151e-9ace-4d63-9581-b78013714c65');\n",
              "          const dataTable =\n",
              "            await google.colab.kernel.invokeFunction('convertToInteractive',\n",
              "                                                     [key], {});\n",
              "          if (!dataTable) return;\n",
              "\n",
              "          const docLinkHtml = 'Like what you see? Visit the ' +\n",
              "            '<a target=\"_blank\" href=https://colab.research.google.com/notebooks/data_table.ipynb>data table notebook</a>'\n",
              "            + ' to learn more about interactive tables.';\n",
              "          element.innerHTML = '';\n",
              "          dataTable['output_type'] = 'display_data';\n",
              "          await google.colab.output.renderOutput(dataTable, element);\n",
              "          const docLink = document.createElement('div');\n",
              "          docLink.innerHTML = docLinkHtml;\n",
              "          element.appendChild(docLink);\n",
              "        }\n",
              "      </script>\n",
              "    </div>\n",
              "  </div>\n",
              "  "
            ]
          },
          "metadata": {},
          "execution_count": 20
        }
      ]
    },
    {
      "cell_type": "code",
      "source": [
        "df.head()"
      ],
      "metadata": {
        "colab": {
          "base_uri": "https://localhost:8080/",
          "height": 270
        },
        "id": "vcd-m3Yy_ewv",
        "outputId": "afbb4259-5b68-443a-ef9e-c81ea54804e4"
      },
      "execution_count": 21,
      "outputs": [
        {
          "output_type": "execute_result",
          "data": {
            "text/plain": [
              "   Pregnancies  Glucose  BloodPressure  SkinThickness  Insulin   BMI  \\\n",
              "0            6    148.0           72.0             35      125  33.6   \n",
              "1            1     85.0           66.0             29      125  26.6   \n",
              "2            8    183.0           64.0             29      125  23.3   \n",
              "3            1     89.0           66.0             23       94  28.1   \n",
              "4            0    137.0           40.0             35      168  43.1   \n",
              "\n",
              "   DiabetesPedigreeFunction  Age  Outcome  \n",
              "0                     0.627   50        1  \n",
              "1                     0.351   31        0  \n",
              "2                     0.672   32        1  \n",
              "3                     0.167   21        0  \n",
              "4                     2.288   33        1  "
            ],
            "text/html": [
              "\n",
              "  <div id=\"df-0fecc6bf-f4cf-4139-baac-e1dc5debdba9\">\n",
              "    <div class=\"colab-df-container\">\n",
              "      <div>\n",
              "<style scoped>\n",
              "    .dataframe tbody tr th:only-of-type {\n",
              "        vertical-align: middle;\n",
              "    }\n",
              "\n",
              "    .dataframe tbody tr th {\n",
              "        vertical-align: top;\n",
              "    }\n",
              "\n",
              "    .dataframe thead th {\n",
              "        text-align: right;\n",
              "    }\n",
              "</style>\n",
              "<table border=\"1\" class=\"dataframe\">\n",
              "  <thead>\n",
              "    <tr style=\"text-align: right;\">\n",
              "      <th></th>\n",
              "      <th>Pregnancies</th>\n",
              "      <th>Glucose</th>\n",
              "      <th>BloodPressure</th>\n",
              "      <th>SkinThickness</th>\n",
              "      <th>Insulin</th>\n",
              "      <th>BMI</th>\n",
              "      <th>DiabetesPedigreeFunction</th>\n",
              "      <th>Age</th>\n",
              "      <th>Outcome</th>\n",
              "    </tr>\n",
              "  </thead>\n",
              "  <tbody>\n",
              "    <tr>\n",
              "      <th>0</th>\n",
              "      <td>6</td>\n",
              "      <td>148.0</td>\n",
              "      <td>72.0</td>\n",
              "      <td>35</td>\n",
              "      <td>125</td>\n",
              "      <td>33.6</td>\n",
              "      <td>0.627</td>\n",
              "      <td>50</td>\n",
              "      <td>1</td>\n",
              "    </tr>\n",
              "    <tr>\n",
              "      <th>1</th>\n",
              "      <td>1</td>\n",
              "      <td>85.0</td>\n",
              "      <td>66.0</td>\n",
              "      <td>29</td>\n",
              "      <td>125</td>\n",
              "      <td>26.6</td>\n",
              "      <td>0.351</td>\n",
              "      <td>31</td>\n",
              "      <td>0</td>\n",
              "    </tr>\n",
              "    <tr>\n",
              "      <th>2</th>\n",
              "      <td>8</td>\n",
              "      <td>183.0</td>\n",
              "      <td>64.0</td>\n",
              "      <td>29</td>\n",
              "      <td>125</td>\n",
              "      <td>23.3</td>\n",
              "      <td>0.672</td>\n",
              "      <td>32</td>\n",
              "      <td>1</td>\n",
              "    </tr>\n",
              "    <tr>\n",
              "      <th>3</th>\n",
              "      <td>1</td>\n",
              "      <td>89.0</td>\n",
              "      <td>66.0</td>\n",
              "      <td>23</td>\n",
              "      <td>94</td>\n",
              "      <td>28.1</td>\n",
              "      <td>0.167</td>\n",
              "      <td>21</td>\n",
              "      <td>0</td>\n",
              "    </tr>\n",
              "    <tr>\n",
              "      <th>4</th>\n",
              "      <td>0</td>\n",
              "      <td>137.0</td>\n",
              "      <td>40.0</td>\n",
              "      <td>35</td>\n",
              "      <td>168</td>\n",
              "      <td>43.1</td>\n",
              "      <td>2.288</td>\n",
              "      <td>33</td>\n",
              "      <td>1</td>\n",
              "    </tr>\n",
              "  </tbody>\n",
              "</table>\n",
              "</div>\n",
              "      <button class=\"colab-df-convert\" onclick=\"convertToInteractive('df-0fecc6bf-f4cf-4139-baac-e1dc5debdba9')\"\n",
              "              title=\"Convert this dataframe to an interactive table.\"\n",
              "              style=\"display:none;\">\n",
              "        \n",
              "  <svg xmlns=\"http://www.w3.org/2000/svg\" height=\"24px\"viewBox=\"0 0 24 24\"\n",
              "       width=\"24px\">\n",
              "    <path d=\"M0 0h24v24H0V0z\" fill=\"none\"/>\n",
              "    <path d=\"M18.56 5.44l.94 2.06.94-2.06 2.06-.94-2.06-.94-.94-2.06-.94 2.06-2.06.94zm-11 1L8.5 8.5l.94-2.06 2.06-.94-2.06-.94L8.5 2.5l-.94 2.06-2.06.94zm10 10l.94 2.06.94-2.06 2.06-.94-2.06-.94-.94-2.06-.94 2.06-2.06.94z\"/><path d=\"M17.41 7.96l-1.37-1.37c-.4-.4-.92-.59-1.43-.59-.52 0-1.04.2-1.43.59L10.3 9.45l-7.72 7.72c-.78.78-.78 2.05 0 2.83L4 21.41c.39.39.9.59 1.41.59.51 0 1.02-.2 1.41-.59l7.78-7.78 2.81-2.81c.8-.78.8-2.07 0-2.86zM5.41 20L4 18.59l7.72-7.72 1.47 1.35L5.41 20z\"/>\n",
              "  </svg>\n",
              "      </button>\n",
              "      \n",
              "  <style>\n",
              "    .colab-df-container {\n",
              "      display:flex;\n",
              "      flex-wrap:wrap;\n",
              "      gap: 12px;\n",
              "    }\n",
              "\n",
              "    .colab-df-convert {\n",
              "      background-color: #E8F0FE;\n",
              "      border: none;\n",
              "      border-radius: 50%;\n",
              "      cursor: pointer;\n",
              "      display: none;\n",
              "      fill: #1967D2;\n",
              "      height: 32px;\n",
              "      padding: 0 0 0 0;\n",
              "      width: 32px;\n",
              "    }\n",
              "\n",
              "    .colab-df-convert:hover {\n",
              "      background-color: #E2EBFA;\n",
              "      box-shadow: 0px 1px 2px rgba(60, 64, 67, 0.3), 0px 1px 3px 1px rgba(60, 64, 67, 0.15);\n",
              "      fill: #174EA6;\n",
              "    }\n",
              "\n",
              "    [theme=dark] .colab-df-convert {\n",
              "      background-color: #3B4455;\n",
              "      fill: #D2E3FC;\n",
              "    }\n",
              "\n",
              "    [theme=dark] .colab-df-convert:hover {\n",
              "      background-color: #434B5C;\n",
              "      box-shadow: 0px 1px 3px 1px rgba(0, 0, 0, 0.15);\n",
              "      filter: drop-shadow(0px 1px 2px rgba(0, 0, 0, 0.3));\n",
              "      fill: #FFFFFF;\n",
              "    }\n",
              "  </style>\n",
              "\n",
              "      <script>\n",
              "        const buttonEl =\n",
              "          document.querySelector('#df-0fecc6bf-f4cf-4139-baac-e1dc5debdba9 button.colab-df-convert');\n",
              "        buttonEl.style.display =\n",
              "          google.colab.kernel.accessAllowed ? 'block' : 'none';\n",
              "\n",
              "        async function convertToInteractive(key) {\n",
              "          const element = document.querySelector('#df-0fecc6bf-f4cf-4139-baac-e1dc5debdba9');\n",
              "          const dataTable =\n",
              "            await google.colab.kernel.invokeFunction('convertToInteractive',\n",
              "                                                     [key], {});\n",
              "          if (!dataTable) return;\n",
              "\n",
              "          const docLinkHtml = 'Like what you see? Visit the ' +\n",
              "            '<a target=\"_blank\" href=https://colab.research.google.com/notebooks/data_table.ipynb>data table notebook</a>'\n",
              "            + ' to learn more about interactive tables.';\n",
              "          element.innerHTML = '';\n",
              "          dataTable['output_type'] = 'display_data';\n",
              "          await google.colab.output.renderOutput(dataTable, element);\n",
              "          const docLink = document.createElement('div');\n",
              "          docLink.innerHTML = docLinkHtml;\n",
              "          element.appendChild(docLink);\n",
              "        }\n",
              "      </script>\n",
              "    </div>\n",
              "  </div>\n",
              "  "
            ]
          },
          "metadata": {},
          "execution_count": 21
        }
      ]
    },
    {
      "cell_type": "code",
      "source": [
        "df['Outcome'].loc[(df['Outcome'] == 0)] = -1"
      ],
      "metadata": {
        "id": "vbLSw5Y0ANqG",
        "colab": {
          "base_uri": "https://localhost:8080/"
        },
        "outputId": "5b2d566f-9161-4753-fd89-8c969f56b00b"
      },
      "execution_count": 22,
      "outputs": [
        {
          "output_type": "stream",
          "name": "stderr",
          "text": [
            "/usr/local/lib/python3.8/dist-packages/pandas/core/indexing.py:1732: SettingWithCopyWarning: \n",
            "A value is trying to be set on a copy of a slice from a DataFrame\n",
            "\n",
            "See the caveats in the documentation: https://pandas.pydata.org/pandas-docs/stable/user_guide/indexing.html#returning-a-view-versus-a-copy\n",
            "  self._setitem_single_block(indexer, value, name)\n"
          ]
        }
      ]
    },
    {
      "cell_type": "code",
      "source": [
        "X = df['DiabetesPedigreeFunction'].to_numpy()\n",
        "print(X.shape)"
      ],
      "metadata": {
        "colab": {
          "base_uri": "https://localhost:8080/"
        },
        "id": "VAQH6NoUDg0o",
        "outputId": "56f26e36-b2b4-4d5c-ad4f-ef2fe91bccdc"
      },
      "execution_count": 23,
      "outputs": [
        {
          "output_type": "stream",
          "name": "stdout",
          "text": [
            "(768,)\n"
          ]
        }
      ]
    },
    {
      "cell_type": "code",
      "source": [
        "print(y[0:10])\n",
        "print(y.shape)"
      ],
      "metadata": {
        "id": "oEBVMdL5DjDC",
        "colab": {
          "base_uri": "https://localhost:8080/"
        },
        "outputId": "815e7829-9fa9-4801-f016-7be6b7be520e"
      },
      "execution_count": 24,
      "outputs": [
        {
          "output_type": "stream",
          "name": "stdout",
          "text": [
            "[[6.33428778]\n",
            " [9.40527849]\n",
            " [8.48372443]\n",
            " [5.60438199]\n",
            " [4.71643995]\n",
            " [5.29307969]\n",
            " [5.82639572]\n",
            " [8.67878666]\n",
            " [6.79819647]\n",
            " [7.74667842]]\n",
            "(100, 1)\n"
          ]
        }
      ]
    },
    {
      "cell_type": "code",
      "source": [
        "y_pred = np.random.randn(2,1)\n",
        "print(y_pred)"
      ],
      "metadata": {
        "colab": {
          "base_uri": "https://localhost:8080/"
        },
        "id": "2t9CByyHA4YI",
        "outputId": "76db46ce-6ee3-4409-cd23-d7f2f89a1377"
      },
      "execution_count": 25,
      "outputs": [
        {
          "output_type": "stream",
          "name": "stdout",
          "text": [
            "[[0.55404728]\n",
            " [0.42655072]]\n"
          ]
        }
      ]
    },
    {
      "cell_type": "code",
      "source": [
        "##batch gradient descent\n",
        "def gradient_descent(X, y, y_pred, learning_rate=0.01, iterations=100):\n",
        "    '''\n",
        "    X = Matrix of X with added bias units\n",
        "    y = Vector of Y\n",
        "    y_pred = Vector of y_preds np.random.randn(j, 1)\n",
        "    learning_rate \n",
        "    iterations = no of iterations\n",
        "    \n",
        "    Returns the final y_pred vector and array of cost history over no of iterations\n",
        "    '''\n",
        "\n",
        "    m = len(y)\n",
        "    cost_history = np.zeros(iterations)\n",
        "    y_pred_history = np.zeros((iterations, 2))\n",
        "    \n",
        "    for it in range(iterations):    \n",
        "        prediction = np.dot(X, y_pred)\n",
        "        y_pred = y_pred - (1 / m) * learning_rate * (X.T.dot((prediction - y)))\n",
        "        cost_history[it]  = cal_cost(y_pred, X, y)\n",
        "        \n",
        "    return y_pred, cost_history"
      ],
      "metadata": {
        "id": "NOYLc4WtAe6p"
      },
      "execution_count": 26,
      "outputs": []
    },
    {
      "cell_type": "code",
      "source": [
        "fig, ax = plt.subplots(figsize=(12,8))\n",
        "\n",
        "ax.set_ylabel('Error')\n",
        "ax.set_xlabel('Number of iterations')\n",
        "\n",
        "ax.plot(range(n_iter), cost_history, 'b.')"
      ],
      "metadata": {
        "colab": {
          "base_uri": "https://localhost:8080/",
          "height": 851
        },
        "id": "MMOIV00TA7Tf",
        "outputId": "814e2a6d-6169-4141-a520-6ae12f4d0fb1"
      },
      "execution_count": 30,
      "outputs": [
        {
          "output_type": "error",
          "ename": "ValueError",
          "evalue": "ignored",
          "traceback": [
            "\u001b[0;31m---------------------------------------------------------------------------\u001b[0m",
            "\u001b[0;31mValueError\u001b[0m                                Traceback (most recent call last)",
            "\u001b[0;32m<ipython-input-30-56a559fd4710>\u001b[0m in \u001b[0;36m<module>\u001b[0;34m\u001b[0m\n\u001b[1;32m      4\u001b[0m \u001b[0max\u001b[0m\u001b[0;34m.\u001b[0m\u001b[0mset_xlabel\u001b[0m\u001b[0;34m(\u001b[0m\u001b[0;34m'Number of iterations'\u001b[0m\u001b[0;34m)\u001b[0m\u001b[0;34m\u001b[0m\u001b[0;34m\u001b[0m\u001b[0m\n\u001b[1;32m      5\u001b[0m \u001b[0;34m\u001b[0m\u001b[0m\n\u001b[0;32m----> 6\u001b[0;31m \u001b[0max\u001b[0m\u001b[0;34m.\u001b[0m\u001b[0mplot\u001b[0m\u001b[0;34m(\u001b[0m\u001b[0mrange\u001b[0m\u001b[0;34m(\u001b[0m\u001b[0mn_iter\u001b[0m\u001b[0;34m)\u001b[0m\u001b[0;34m,\u001b[0m \u001b[0mcost_history\u001b[0m\u001b[0;34m,\u001b[0m \u001b[0;34m'b.'\u001b[0m\u001b[0;34m)\u001b[0m\u001b[0;34m\u001b[0m\u001b[0;34m\u001b[0m\u001b[0m\n\u001b[0m",
            "\u001b[0;32m/usr/local/lib/python3.8/dist-packages/matplotlib/axes/_axes.py\u001b[0m in \u001b[0;36mplot\u001b[0;34m(self, scalex, scaley, data, *args, **kwargs)\u001b[0m\n\u001b[1;32m   1645\u001b[0m         \"\"\"\n\u001b[1;32m   1646\u001b[0m         \u001b[0mkwargs\u001b[0m \u001b[0;34m=\u001b[0m \u001b[0mcbook\u001b[0m\u001b[0;34m.\u001b[0m\u001b[0mnormalize_kwargs\u001b[0m\u001b[0;34m(\u001b[0m\u001b[0mkwargs\u001b[0m\u001b[0;34m,\u001b[0m \u001b[0mmlines\u001b[0m\u001b[0;34m.\u001b[0m\u001b[0mLine2D\u001b[0m\u001b[0;34m)\u001b[0m\u001b[0;34m\u001b[0m\u001b[0;34m\u001b[0m\u001b[0m\n\u001b[0;32m-> 1647\u001b[0;31m         \u001b[0mlines\u001b[0m \u001b[0;34m=\u001b[0m \u001b[0;34m[\u001b[0m\u001b[0;34m*\u001b[0m\u001b[0mself\u001b[0m\u001b[0;34m.\u001b[0m\u001b[0m_get_lines\u001b[0m\u001b[0;34m(\u001b[0m\u001b[0;34m*\u001b[0m\u001b[0margs\u001b[0m\u001b[0;34m,\u001b[0m \u001b[0mdata\u001b[0m\u001b[0;34m=\u001b[0m\u001b[0mdata\u001b[0m\u001b[0;34m,\u001b[0m \u001b[0;34m**\u001b[0m\u001b[0mkwargs\u001b[0m\u001b[0;34m)\u001b[0m\u001b[0;34m]\u001b[0m\u001b[0;34m\u001b[0m\u001b[0;34m\u001b[0m\u001b[0m\n\u001b[0m\u001b[1;32m   1648\u001b[0m         \u001b[0;32mfor\u001b[0m \u001b[0mline\u001b[0m \u001b[0;32min\u001b[0m \u001b[0mlines\u001b[0m\u001b[0;34m:\u001b[0m\u001b[0;34m\u001b[0m\u001b[0;34m\u001b[0m\u001b[0m\n\u001b[1;32m   1649\u001b[0m             \u001b[0mself\u001b[0m\u001b[0;34m.\u001b[0m\u001b[0madd_line\u001b[0m\u001b[0;34m(\u001b[0m\u001b[0mline\u001b[0m\u001b[0;34m)\u001b[0m\u001b[0;34m\u001b[0m\u001b[0;34m\u001b[0m\u001b[0m\n",
            "\u001b[0;32m/usr/local/lib/python3.8/dist-packages/matplotlib/axes/_base.py\u001b[0m in \u001b[0;36m__call__\u001b[0;34m(self, *args, **kwargs)\u001b[0m\n\u001b[1;32m    214\u001b[0m                 \u001b[0mthis\u001b[0m \u001b[0;34m+=\u001b[0m \u001b[0margs\u001b[0m\u001b[0;34m[\u001b[0m\u001b[0;36m0\u001b[0m\u001b[0;34m]\u001b[0m\u001b[0;34m,\u001b[0m\u001b[0;34m\u001b[0m\u001b[0;34m\u001b[0m\u001b[0m\n\u001b[1;32m    215\u001b[0m                 \u001b[0margs\u001b[0m \u001b[0;34m=\u001b[0m \u001b[0margs\u001b[0m\u001b[0;34m[\u001b[0m\u001b[0;36m1\u001b[0m\u001b[0;34m:\u001b[0m\u001b[0;34m]\u001b[0m\u001b[0;34m\u001b[0m\u001b[0;34m\u001b[0m\u001b[0m\n\u001b[0;32m--> 216\u001b[0;31m             \u001b[0;32myield\u001b[0m \u001b[0;32mfrom\u001b[0m \u001b[0mself\u001b[0m\u001b[0;34m.\u001b[0m\u001b[0m_plot_args\u001b[0m\u001b[0;34m(\u001b[0m\u001b[0mthis\u001b[0m\u001b[0;34m,\u001b[0m \u001b[0mkwargs\u001b[0m\u001b[0;34m)\u001b[0m\u001b[0;34m\u001b[0m\u001b[0;34m\u001b[0m\u001b[0m\n\u001b[0m\u001b[1;32m    217\u001b[0m \u001b[0;34m\u001b[0m\u001b[0m\n\u001b[1;32m    218\u001b[0m     \u001b[0;32mdef\u001b[0m \u001b[0mget_next_color\u001b[0m\u001b[0;34m(\u001b[0m\u001b[0mself\u001b[0m\u001b[0;34m)\u001b[0m\u001b[0;34m:\u001b[0m\u001b[0;34m\u001b[0m\u001b[0;34m\u001b[0m\u001b[0m\n",
            "\u001b[0;32m/usr/local/lib/python3.8/dist-packages/matplotlib/axes/_base.py\u001b[0m in \u001b[0;36m_plot_args\u001b[0;34m(self, tup, kwargs)\u001b[0m\n\u001b[1;32m    340\u001b[0m \u001b[0;34m\u001b[0m\u001b[0m\n\u001b[1;32m    341\u001b[0m         \u001b[0;32mif\u001b[0m \u001b[0mx\u001b[0m\u001b[0;34m.\u001b[0m\u001b[0mshape\u001b[0m\u001b[0;34m[\u001b[0m\u001b[0;36m0\u001b[0m\u001b[0;34m]\u001b[0m \u001b[0;34m!=\u001b[0m \u001b[0my\u001b[0m\u001b[0;34m.\u001b[0m\u001b[0mshape\u001b[0m\u001b[0;34m[\u001b[0m\u001b[0;36m0\u001b[0m\u001b[0;34m]\u001b[0m\u001b[0;34m:\u001b[0m\u001b[0;34m\u001b[0m\u001b[0;34m\u001b[0m\u001b[0m\n\u001b[0;32m--> 342\u001b[0;31m             raise ValueError(f\"x and y must have same first dimension, but \"\n\u001b[0m\u001b[1;32m    343\u001b[0m                              f\"have shapes {x.shape} and {y.shape}\")\n\u001b[1;32m    344\u001b[0m         \u001b[0;32mif\u001b[0m \u001b[0mx\u001b[0m\u001b[0;34m.\u001b[0m\u001b[0mndim\u001b[0m \u001b[0;34m>\u001b[0m \u001b[0;36m2\u001b[0m \u001b[0;32mor\u001b[0m \u001b[0my\u001b[0m\u001b[0;34m.\u001b[0m\u001b[0mndim\u001b[0m \u001b[0;34m>\u001b[0m \u001b[0;36m2\u001b[0m\u001b[0;34m:\u001b[0m\u001b[0;34m\u001b[0m\u001b[0;34m\u001b[0m\u001b[0m\n",
            "\u001b[0;31mValueError\u001b[0m: x and y must have same first dimension, but have shapes (1000,) and (50,)"
          ]
        },
        {
          "output_type": "display_data",
          "data": {
            "text/plain": [
              "<Figure size 864x576 with 1 Axes>"
            ],
            "image/png": "[encoded data removed]"
          },
          "metadata": {
            "needs_background": "light"
          }
        }
      ]
    },
    {
      "cell_type": "code",
      "source": [
        "#Stochastic gradient descent\n",
        "lr = 0.007\n",
        "n_iter = 800\n",
        "y_pred = np.random.randn(2, 1)\n",
        "X_b = np.c_[np.ones((len(X), 1)), X]\n",
        "y_pred, cost_history = stocashtic_gradient_descent(X_b, y, y_pred, lr, n_iter)\n",
        "\n",
        "print('y_pred[0]: {:0.3f}\\ny_pred[1]: {:0.3f}'.format(y_pred[0][0], y_pred[1][0]))\n",
        "print('Final error: {:0.3f}'.format(cost_history[-1]))\n",
        "fig, ax = plt.subplots(figsize=(10,8))\n",
        "\n",
        "ax.set_ylabel('Error')\n",
        "ax.set_xlabel('Number of iterations')\n",
        "y_pred = np.random.randn(2,1)\n",
        "\n",
        "ax.plot(range(n_iter), cost_history, 'b.')"
      ],
      "metadata": {
        "colab": {
          "base_uri": "https://localhost:8080/",
          "height": 566
        },
        "id": "1vjzRQmaArfn",
        "outputId": "771fcbb9-c5f7-41a2-b407-76d3d3847db3"
      },
      "execution_count": 31,
      "outputs": [
        {
          "output_type": "stream",
          "name": "stdout",
          "text": [
            "y_pred[0]: 6.530\n",
            "y_pred[1]: 0.463\n",
            "Final error: 183.039\n"
          ]
        },
        {
          "output_type": "execute_result",
          "data": {
            "text/plain": [
              "[<matplotlib.lines.Line2D at 0x7fad3ffc69d0>]"
            ]
          },
          "metadata": {},
          "execution_count": 31
        },
        {
          "output_type": "display_data",
          "data": {
            "text/plain": [
              "<Figure size 720x576 with 1 Axes>"
            ],
            "image/png": "[encoded data removed]"
          },
          "metadata": {
            "needs_background": "light"
          }
        }
      ]
    },
    {
      "cell_type": "code",
      "source": [
        "#mini batch gradient descent\n",
        "lr = 0.1\n",
        "n_iter = 200\n",
        "y_pred = np.random.randn(2,1)\n",
        "y_pred, cost_history = minibatch_gradient_descent(X, y, y_pred, lr, n_iter, batch_size = 10)\n",
        "\n",
        "print('y_pred[0]: {:0.3f}\\ny_pred[1]: {:0.3f}'.format(y_pred[0][0], y_pred[1][0]))\n",
        "print('Final error: {:0.3f}'.format(cost_history[-1]))\n",
        "fig, ax = plt.subplots(figsize=(10,8))\n",
        "\n",
        "ax.set_ylabel('Error')\n",
        "ax.set_xlabel('Number of iterations')\n",
        "y_pred = np.random.randn(2,1)\n",
        "\n",
        "ax.plot(range(n_iter), cost_history, 'b.')"
      ],
      "metadata": {
        "colab": {
          "base_uri": "https://localhost:8080/",
          "height": 566
        },
        "id": "vS44y2swAxGA",
        "outputId": "eb7a462c-5b91-43ea-f10a-51480bb5e804"
      },
      "execution_count": 32,
      "outputs": [
        {
          "output_type": "stream",
          "name": "stdout",
          "text": [
            "y_pred[0]: 6.900\n",
            "y_pred[1]: -0.226\n",
            "Final error: 1729.588\n"
          ]
        },
        {
          "output_type": "execute_result",
          "data": {
            "text/plain": [
              "[<matplotlib.lines.Line2D at 0x7fad4b048cd0>]"
            ]
          },
          "metadata": {},
          "execution_count": 32
        },
        {
          "output_type": "display_data",
          "data": {
            "text/plain": [
              "<Figure size 720x576 with 1 Axes>"
            ],
            "image/png": "[encoded data removed]"
          },
          "metadata": {
            "needs_background": "light"
          }
        }
      ]
    },
    {
      "cell_type": "code",
      "source": [
        "X = df['DiabetesPedigreeFunction'].to_numpy()\n",
        "print(X.shape)"
      ],
      "metadata": {
        "colab": {
          "base_uri": "https://localhost:8080/"
        },
        "id": "fYX9CbvRCShh",
        "outputId": "7bb70a0f-dc4f-4bd4-b74c-38693f8b9df5"
      },
      "execution_count": 33,
      "outputs": [
        {
          "output_type": "stream",
          "name": "stdout",
          "text": [
            "(768,)\n"
          ]
        }
      ]
    },
    {
      "cell_type": "markdown",
      "source": [
        "# **Answer for task-3**"
      ],
      "metadata": {
        "id": "ozd3RKMUBbsU"
      }
    },
    {
      "cell_type": "code",
      "source": [
        "X = 2 * np.random.rand(100, 1)\n",
        "y = 4 + 3 * X + np.random.randn(100, 1)"
      ],
      "metadata": {
        "id": "bueoG1zyKVS5"
      },
      "execution_count": 34,
      "outputs": []
    },
    {
      "cell_type": "code",
      "source": [
        "###Gradient descent\n",
        "def gradient_descent(X, y, y_pred, learning_rate=0.01, iterations=100):\n",
        "    '''\n",
        "    X = Matrix of X with added bias units\n",
        "    y = Vector of Y\n",
        "    y_pred = Vector of y_preds np.random.randn(j, 1)\n",
        "    learning_rate \n",
        "    iterations = no of iterations\n",
        "    \n",
        "    Returns the final y_pred vector and array of cost history over no of iterations\n",
        "    '''\n",
        "\n",
        "    m = len(y)\n",
        "    cost_history = np.zeros(iterations)\n",
        "    y_pred_history = np.zeros((iterations, 2))\n",
        "    \n",
        "    for it in range(iterations):    \n",
        "        prediction = np.dot(X, y_pred)\n",
        "        y_pred = y_pred - (1 / m) * learning_rate * (X.T.dot((prediction - y)))\n",
        "        y_pred_history[it,:] = y_pred.T\n",
        "        cost_history[it]  = cal_cost(y_pred, X, y)\n",
        "        \n",
        "    return y_pred, cost_history, y_pred_history  \n",
        "lr = 0.0001\n",
        "n_iter = 1000\n",
        "\n",
        "y_pred = np.random.randn(2,1)\n",
        "X_b = np.c_[np.ones((len(X), 1)), X]\n",
        "y_pred, cost_history, y_pred_history = gradient_descent(X_b, y, y_pred, lr, n_iter)\n",
        "\n",
        "print('y_pred[0]: {:0.3f}\\ny_pred[1]: {:0.3f}'.format(y_pred[0][0], y_pred[1][0]))\n",
        "print('Final error: {:0.3f}'.format(cost_history[-1]))\n",
        "\n",
        "fig, ax = plt.subplots(figsize=(12,8))\n",
        "\n",
        "ax.set_ylabel('Error')\n",
        "ax.set_xlabel('Number of iterations')\n",
        "\n",
        "ax.plot(range(n_iter), cost_history, 'b.')"
      ],
      "metadata": {
        "colab": {
          "base_uri": "https://localhost:8080/",
          "height": 526
        },
        "outputId": "244ba37d-80eb-4dc6-b3fe-0efa4c33fafd",
        "id": "upvLAsygJgMD"
      },
      "execution_count": 35,
      "outputs": [
        {
          "output_type": "stream",
          "name": "stdout",
          "text": [
            "y_pred[0]: 0.640\n",
            "y_pred[1]: 0.304\n",
            "Final error: 214314.055\n"
          ]
        },
        {
          "output_type": "execute_result",
          "data": {
            "text/plain": [
              "[<matplotlib.lines.Line2D at 0x7fad4b370e20>]"
            ]
          },
          "metadata": {},
          "execution_count": 35
        },
        {
          "output_type": "display_data",
          "data": {
            "text/plain": [
              "<Figure size 864x576 with 1 Axes>"
            ],
            "image/png": "[encoded data removed]"
          },
          "metadata": {
            "needs_background": "light"
          }
        }
      ]
    },
    {
      "cell_type": "code",
      "source": [
        "###Stochastic Gradient Descent\n",
        "def stocashtic_gradient_descent(X, y, y_pred, learning_rate=0.00001, iterations=10):\n",
        "    '''\n",
        "    X = Matrix of X with added bias units\n",
        "    y = Vector of Y\n",
        "    y_pred = Vector of y_pred np.random.randn(j,1)\n",
        "    learning_rate \n",
        "    iterations = no of iterations\n",
        "    \n",
        "    Returns the final y_pred vector and array of cost history over no of iterations\n",
        "    '''\n",
        "\n",
        "    m = len(y)\n",
        "    cost_history = np.zeros(iterations)\n",
        "    \n",
        "    for it in range(iterations):\n",
        "        cost = 0.0\n",
        "        \n",
        "        for i in range(m):\n",
        "            rand_ind = np.random.randint(0,m)\n",
        "            X_i = X[rand_ind, :].reshape(1, X.shape[1])\n",
        "            y_i = y[rand_ind].reshape(1,1)\n",
        "            prediction = np.dot(X_i, y_pred)\n",
        "\n",
        "            y_pred = y_pred - (1 / m) * learning_rate *(X_i.T.dot((prediction - y_i)))\n",
        "            cost += cal_cost(y_pred, X_i, y_i)\n",
        "\n",
        "        cost_history[it]  = cost\n",
        "        \n",
        "    return y_pred, cost_history\n",
        "lr = 0.00001\n",
        "n_iter = 50\n",
        "y_pred = np.random.randn(2, 1)\n",
        "X_b = np.c_[np.ones((len(X), 1)), X]\n",
        "y_pred, cost_history = stocashtic_gradient_descent(X_b, y, y_pred, lr, n_iter)\n",
        "\n",
        "print('y_pred[0]: {:0.3f}\\ny_pred[1]: {:0.3f}'.format(y_pred[0][0], y_pred[1][0]))\n",
        "print('Final error: {:0.3f}'.format(cost_history[-1]))\n",
        "\n",
        "\n",
        "fig, ax = plt.subplots(figsize=(10,8))\n",
        "\n",
        "ax.set_ylabel('Error')\n",
        "ax.set_xlabel('Number of iterations')\n",
        "y_pred = np.random.randn(2,1)\n",
        "\n",
        "ax.plot(range(n_iter), cost_history, 'b.')"
      ],
      "metadata": {
        "colab": {
          "base_uri": "https://localhost:8080/",
          "height": 566
        },
        "id": "PVIIpSuHKiiA",
        "outputId": "1ae4020c-1620-46d1-c55c-aad6d1b9cc85"
      },
      "execution_count": 36,
      "outputs": [
        {
          "output_type": "stream",
          "name": "stdout",
          "text": [
            "y_pred[0]: 0.799\n",
            "y_pred[1]: 0.315\n",
            "Final error: 2013.092\n"
          ]
        },
        {
          "output_type": "execute_result",
          "data": {
            "text/plain": [
              "[<matplotlib.lines.Line2D at 0x7fad4b2054f0>]"
            ]
          },
          "metadata": {},
          "execution_count": 36
        },
        {
          "output_type": "display_data",
          "data": {
            "text/plain": [
              "<Figure size 720x576 with 1 Axes>"
            ],
            "image/png": "[encoded data removed]"
          },
          "metadata": {
            "needs_background": "light"
          }
        }
      ]
    },
    {
      "cell_type": "code",
      "source": [
        "###Minbatch gradient descent\n",
        "def minibatch_gradient_descent(X, y, y_pred, learning_rate=0.00001, iterations=10, batch_size=20):\n",
        "    '''\n",
        "    X = Matrix of X without added bias units\n",
        "    y = Vector of Y\n",
        "    y_pred = Vector of y_preds np.random.randn(j, 1)\n",
        "    learning_rate \n",
        "    iterations = no of iterations\n",
        "    \n",
        "    Returns the final theta vector and array of cost history over no of iterations\n",
        "    '''\n",
        "\n",
        "    m = len(y)\n",
        "    cost_history = np.zeros(iterations)\n",
        "    n_batches = int(m / batch_size)\n",
        "    \n",
        "    for it in range(iterations):\n",
        "        cost = 0.0\n",
        "        indices = np.random.permutation(m)\n",
        "        X = X[indices]\n",
        "        y = y[indices]\n",
        "\n",
        "        for i in range(0, m, batch_size):\n",
        "            X_i = X[i: i + batch_size]\n",
        "            y_i = y[i: i + batch_size]\n",
        "            \n",
        "            X_i = np.c_[np.ones(len(X_i)), X_i]\n",
        "            prediction = np.dot(X_i, y_pred)\n",
        "\n",
        "            y_pred = y_pred - (1 / m) * learning_rate * (X_i.T.dot((prediction - y_i)))\n",
        "            cost += cal_cost(y_pred, X_i, y_i)\n",
        "\n",
        "        cost_history[it]  = cost\n",
        "        \n",
        "    return y_pred, cost_history\n",
        "\n",
        "\n",
        "lr = 0.00001\n",
        "n_iter = 200\n",
        "y_pred = np.random.randn(2,1)\n",
        "y_pred, cost_history = minibatch_gradient_descent(X, y, y_pred, lr, n_iter)\n",
        "\n",
        "print('y_pred[0]: {:0.3f}\\ny_pred[1]: {:0.3f}'.format(y_pred[0][0], y_pred[1][0]))\n",
        "print('Final error: {:0.3f}'.format(cost_history[-1]))\n",
        "\n",
        "fig, ax = plt.subplots(figsize=(10,8))\n",
        "\n",
        "ax.set_ylabel('Error')\n",
        "ax.set_xlabel('Number of iterations')\n",
        "y_pred = np.random.randn(2,1)\n",
        "\n",
        "ax.plot(range(n_iter), cost_history, 'b.')"
      ],
      "metadata": {
        "colab": {
          "base_uri": "https://localhost:8080/",
          "height": 566
        },
        "id": "Hjkdz_vQK7pN",
        "outputId": "4e5e7fc7-8df1-40cb-8def-daaaf6fb1b90"
      },
      "execution_count": 27,
      "outputs": [
        {
          "output_type": "stream",
          "name": "stdout",
          "text": [
            "y_pred[0]: 1.073\n",
            "y_pred[1]: 0.240\n",
            "Final error: 35292.855\n"
          ]
        },
        {
          "output_type": "execute_result",
          "data": {
            "text/plain": [
              "[<matplotlib.lines.Line2D at 0x7fad3fef5fa0>]"
            ]
          },
          "metadata": {},
          "execution_count": 27
        },
        {
          "output_type": "display_data",
          "data": {
            "text/plain": [
              "<Figure size 720x576 with 1 Axes>"
            ],
            "image/png": "[encoded data removed]"
          },
          "metadata": {
            "needs_background": "light"
          }
        }
      ]
    },
    {
      "cell_type": "markdown",
      "source": [
        "We observed that SGD converges faster in all the cases. For Batch GD we need more number of iterations compared to SGD and MBGD. MBGD falls somewhat in middle of SGD and BGD"
      ],
      "metadata": {
        "id": "0RFv9VhMDaUl"
      }
    }
  ]
}